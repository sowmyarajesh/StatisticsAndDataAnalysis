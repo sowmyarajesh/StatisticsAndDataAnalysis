{
 "cells": [
  {
   "cell_type": "markdown",
   "metadata": {},
   "source": [
    "# Maximum likelihood Estimation"
   ]
  },
  {
   "cell_type": "code",
   "execution_count": 2,
   "metadata": {},
   "outputs": [
    {
     "data": {
      "text/plain": [
       "Index(['seconds', 'count'], dtype='object')"
      ]
     },
     "execution_count": 2,
     "metadata": {},
     "output_type": "execute_result"
    }
   ],
   "source": [
    "import pandas as pd\n",
    "import numpy as np\n",
    "from statsmodels import api\n",
    "from scipy import stats\n",
    "from scipy.optimize import minimize\n",
    "\n",
    "gamma_ray = pd.read_csv('data\\gamma-ray.csv')\n",
    "gamma_ray.columns"
   ]
  },
  {
   "cell_type": "code",
   "execution_count": 4,
   "metadata": {},
   "outputs": [
    {
     "data": {
      "image/png": "[encoded data removed]",
      "text/plain": [
       "<Figure size 640x480 with 1 Axes>"
      ]
     },
     "metadata": {},
     "output_type": "display_data"
    }
   ],
   "source": [
    "\n",
    "import seaborn as sns\n",
    "from matplotlib import pyplot as plt\n",
    "\n",
    "sns.regplot(x='seconds', y='count', data = gamma_ray)\n",
    "plt.show() \n",
    "X = list(gamma_ray['seconds'].values)\n",
    "y = list(gamma_ray['count'].values)\n"
   ]
  },
  {
   "cell_type": "code",
   "execution_count": 5,
   "metadata": {},
   "outputs": [
    {
     "data": {
      "text/html": [
       "<table class=\"simpletable\">\n",
       "<caption>OLS Regression Results</caption>\n",
       "<tr>\n",
       "  <th>Dep. Variable:</th>            <td>y</td>        <th>  R-squared:         </th> <td>   0.399</td>\n",
       "</tr>\n",
       "<tr>\n",
       "  <th>Model:</th>                   <td>OLS</td>       <th>  Adj. R-squared:    </th> <td>   0.393</td>\n",
       "</tr>\n",
       "<tr>\n",
       "  <th>Method:</th>             <td>Least Squares</td>  <th>  F-statistic:       </th> <td>   65.03</td>\n",
       "</tr>\n",
       "<tr>\n",
       "  <th>Date:</th>             <td>Tue, 07 Feb 2023</td> <th>  Prob (F-statistic):</th> <td>1.85e-12</td>\n",
       "</tr>\n",
       "<tr>\n",
       "  <th>Time:</th>                 <td>19:46:41</td>     <th>  Log-Likelihood:    </th> <td> -137.97</td>\n",
       "</tr>\n",
       "<tr>\n",
       "  <th>No. Observations:</th>      <td>   100</td>      <th>  AIC:               </th> <td>   279.9</td>\n",
       "</tr>\n",
       "<tr>\n",
       "  <th>Df Residuals:</th>          <td>    98</td>      <th>  BIC:               </th> <td>   285.1</td>\n",
       "</tr>\n",
       "<tr>\n",
       "  <th>Df Model:</th>              <td>     1</td>      <th>                     </th>     <td> </td>   \n",
       "</tr>\n",
       "<tr>\n",
       "  <th>Covariance Type:</th>      <td>nonrobust</td>    <th>                     </th>     <td> </td>   \n",
       "</tr>\n",
       "</table>\n",
       "<table class=\"simpletable\">\n",
       "<tr>\n",
       "     <td></td>        <th>coef</th>     <th>std err</th>      <th>t</th>      <th>P>|t|</th>  <th>[0.025</th>    <th>0.975]</th>  \n",
       "</tr>\n",
       "<tr>\n",
       "  <th>const</th>   <td>    0.1182</td> <td>    0.115</td> <td>    1.031</td> <td> 0.305</td> <td>   -0.109</td> <td>    0.346</td>\n",
       "</tr>\n",
       "<tr>\n",
       "  <th>seconds</th> <td>    0.0031</td> <td>    0.000</td> <td>    8.064</td> <td> 0.000</td> <td>    0.002</td> <td>    0.004</td>\n",
       "</tr>\n",
       "</table>\n",
       "<table class=\"simpletable\">\n",
       "<tr>\n",
       "  <th>Omnibus:</th>       <td>63.558</td> <th>  Durbin-Watson:     </th> <td>   1.916</td> \n",
       "</tr>\n",
       "<tr>\n",
       "  <th>Prob(Omnibus):</th> <td> 0.000</td> <th>  Jarque-Bera (JB):  </th> <td> 537.233</td> \n",
       "</tr>\n",
       "<tr>\n",
       "  <th>Skew:</th>          <td> 1.809</td> <th>  Prob(JB):          </th> <td>2.19e-117</td>\n",
       "</tr>\n",
       "<tr>\n",
       "  <th>Kurtosis:</th>      <td>13.763</td> <th>  Cond. No.          </th> <td>    349.</td> \n",
       "</tr>\n",
       "</table><br/><br/>Notes:<br/>[1] Standard Errors assume that the covariance matrix of the errors is correctly specified."
      ],
      "text/plain": [
       "<class 'statsmodels.iolib.summary.Summary'>\n",
       "\"\"\"\n",
       "                            OLS Regression Results                            \n",
       "==============================================================================\n",
       "Dep. Variable:                      y   R-squared:                       0.399\n",
       "Model:                            OLS   Adj. R-squared:                  0.393\n",
       "Method:                 Least Squares   F-statistic:                     65.03\n",
       "Date:                Tue, 07 Feb 2023   Prob (F-statistic):           1.85e-12\n",
       "Time:                        19:46:41   Log-Likelihood:                -137.97\n",
       "No. Observations:                 100   AIC:                             279.9\n",
       "Df Residuals:                      98   BIC:                             285.1\n",
       "Df Model:                           1                                         \n",
       "Covariance Type:            nonrobust                                         \n",
       "==============================================================================\n",
       "                 coef    std err          t      P>|t|      [0.025      0.975]\n",
       "------------------------------------------------------------------------------\n",
       "const          0.1182      0.115      1.031      0.305      -0.109       0.346\n",
       "seconds        0.0031      0.000      8.064      0.000       0.002       0.004\n",
       "==============================================================================\n",
       "Omnibus:                       63.558   Durbin-Watson:                   1.916\n",
       "Prob(Omnibus):                  0.000   Jarque-Bera (JB):              537.233\n",
       "Skew:                           1.809   Prob(JB):                    2.19e-117\n",
       "Kurtosis:                      13.763   Cond. No.                         349.\n",
       "==============================================================================\n",
       "\n",
       "Notes:\n",
       "[1] Standard Errors assume that the covariance matrix of the errors is correctly specified.\n",
       "\"\"\""
      ]
     },
     "execution_count": 5,
     "metadata": {},
     "output_type": "execute_result"
    }
   ],
   "source": [
    "features = api.add_constant(gamma_ray.seconds)\n",
    "model = api.OLS(y, features).fit()\n",
    "model.summary() "
   ]
  },
  {
   "cell_type": "code",
   "execution_count": 6,
   "metadata": {},
   "outputs": [
    {
     "data": {
      "text/plain": [
       "0.9614835988438862"
      ]
     },
     "execution_count": 6,
     "metadata": {},
     "output_type": "execute_result"
    }
   ],
   "source": [
    "res = model.resid\n",
    "standard_dev = np.std(res)\n",
    "standard_dev"
   ]
  },
  {
   "cell_type": "code",
   "execution_count": 18,
   "metadata": {},
   "outputs": [
    {
     "data": {
      "text/plain": [
       "      fun: 137.9660761420986\n",
       " hess_inv: <3x3 LbfgsInvHessProduct with dtype=float64>\n",
       "      jac: array([ 3.32534001e-04,  4.49330173e-01, -2.12025951e-03])\n",
       "  message: 'CONVERGENCE: REL_REDUCTION_OF_F_<=_FACTR*EPSMCH'\n",
       "     nfev: 268\n",
       "      nit: 34\n",
       "     njev: 67\n",
       "   status: 0\n",
       "  success: True\n",
       "        x: array([0.11818289, 0.00312899, 0.96147378])"
      ]
     },
     "execution_count": 18,
     "metadata": {},
     "output_type": "execute_result"
    }
   ],
   "source": [
    "# MLE function\n",
    "# ml modeling and neg LL calculation\n",
    "def MLE_Norm(parameters):\n",
    "    # extract parameters\n",
    "    const, beta, std_dev = parameters\n",
    "    # predict the output\n",
    "    pred = float(const) + float(beta)*np.array(X)\n",
    "    # Calculate the log-likelihood for normal distribution\n",
    "    LL = np.sum(stats.norm.logpdf(y, pred, std_dev))\n",
    "    # Calculate the negative log-likelihood\n",
    "    neg_LL = -1*LL\n",
    "    return neg_LL \n",
    "# minimize arguments: function, intial_guess_of_parameters, method\n",
    "mle_model = minimize(MLE_Norm, np.array([2.0,2.0,2.0]), method='l-bfgs-b')\n",
    "mle_model\n"
   ]
  },
  {
   "cell_type": "code",
   "execution_count": 19,
   "metadata": {},
   "outputs": [
    {
     "data": {
      "text/plain": [
       "Ttest_indResult(statistic=6.223481344506874, pvalue=2.8454119280344676e-09)"
      ]
     },
     "execution_count": 19,
     "metadata": {},
     "output_type": "execute_result"
    }
   ],
   "source": [
    "stats.ttest_ind(X,y)"
   ]
  },
  {
   "cell_type": "code",
   "execution_count": 24,
   "metadata": {},
   "outputs": [
    {
     "data": {
      "text/plain": [
       "0.11666666666666665"
      ]
     },
     "execution_count": 24,
     "metadata": {},
     "output_type": "execute_result"
    }
   ],
   "source": [
    "0.2*0.7/1.2"
   ]
  },
  {
   "cell_type": "code",
   "execution_count": 38,
   "metadata": {},
   "outputs": [
    {
     "data": {
      "text/plain": [
       "((100, 2),\n",
       " (100, 1),\n",
       "          0        1\n",
       " 0  0.53767  0.84038\n",
       " 1  1.83390 -0.88803\n",
       " 2 -2.25880  0.10009\n",
       " 3  0.86217 -0.54453\n",
       " 4  0.31877  0.30352)"
      ]
     },
     "execution_count": 38,
     "metadata": {},
     "output_type": "execute_result"
    }
   ],
   "source": [
    "X = pd.read_csv('data/syn_X.csv', header=None)\n",
    "y = pd.read_csv('data/syn_y.csv', header=None)\n",
    "X.shape, y.shape, X.head(5)"
   ]
  },
  {
   "cell_type": "code",
   "execution_count": 40,
   "metadata": {},
   "outputs": [
    {
     "data": {
      "text/plain": [
       "(100, 3)"
      ]
     },
     "execution_count": 40,
     "metadata": {},
     "output_type": "execute_result"
    }
   ],
   "source": [
    "def add_intercept(X):\n",
    "  return np.concatenate((np.ones_like(X[:,1]), X), axis=1)\n",
    "\n",
    "# X[0]\n",
    "X = np.column_stack((X[0],X[1],np.ones(X.shape[0])))\n",
    "X.shape"
   ]
  },
  {
   "cell_type": "code",
   "execution_count": 56,
   "metadata": {},
   "outputs": [
    {
     "data": {
      "text/plain": [
       "array([[-129.81744517],\n",
       "       [-387.79844043],\n",
       "       [-228.        ]])"
      ]
     },
     "execution_count": 56,
     "metadata": {},
     "output_type": "execute_result"
    }
   ],
   "source": [
    "XT = np.transpose(X)\n",
    "XTX = np.dot(X,XT)\n",
    "XTX_1= np.linalg.inv(XTX)\n",
    "r = np.dot(XTX_1,y)\n",
    "r = np.matmul(XT,r)\n",
    "r\n"
   ]
  },
  {
   "cell_type": "code",
   "execution_count": 61,
   "metadata": {},
   "outputs": [
    {
     "data": {
      "text/html": [
       "<table class=\"simpletable\">\n",
       "<caption>OLS Regression Results</caption>\n",
       "<tr>\n",
       "  <th>Dep. Variable:</th>            <td>0</td>        <th>  R-squared:         </th> <td>   0.989</td>\n",
       "</tr>\n",
       "<tr>\n",
       "  <th>Model:</th>                   <td>OLS</td>       <th>  Adj. R-squared:    </th> <td>   0.989</td>\n",
       "</tr>\n",
       "<tr>\n",
       "  <th>Method:</th>             <td>Least Squares</td>  <th>  F-statistic:       </th> <td>   4469.</td>\n",
       "</tr>\n",
       "<tr>\n",
       "  <th>Date:</th>             <td>Tue, 07 Feb 2023</td> <th>  Prob (F-statistic):</th> <td>3.13e-96</td>\n",
       "</tr>\n",
       "<tr>\n",
       "  <th>Time:</th>                 <td>23:10:12</td>     <th>  Log-Likelihood:    </th> <td> -70.878</td>\n",
       "</tr>\n",
       "<tr>\n",
       "  <th>No. Observations:</th>      <td>   100</td>      <th>  AIC:               </th> <td>   147.8</td>\n",
       "</tr>\n",
       "<tr>\n",
       "  <th>Df Residuals:</th>          <td>    97</td>      <th>  BIC:               </th> <td>   155.6</td>\n",
       "</tr>\n",
       "<tr>\n",
       "  <th>Df Model:</th>              <td>     2</td>      <th>                     </th>     <td> </td>   \n",
       "</tr>\n",
       "<tr>\n",
       "  <th>Covariance Type:</th>      <td>nonrobust</td>    <th>                     </th>     <td> </td>   \n",
       "</tr>\n",
       "</table>\n",
       "<table class=\"simpletable\">\n",
       "<tr>\n",
       "    <td></td>       <th>coef</th>     <th>std err</th>      <th>t</th>      <th>P>|t|</th>  <th>[0.025</th>    <th>0.975]</th>  \n",
       "</tr>\n",
       "<tr>\n",
       "  <th>const</th> <td>    1.9296</td> <td>    0.050</td> <td>   38.320</td> <td> 0.000</td> <td>    1.830</td> <td>    2.030</td>\n",
       "</tr>\n",
       "<tr>\n",
       "  <th>0</th>     <td>    1.2640</td> <td>    0.043</td> <td>   29.206</td> <td> 0.000</td> <td>    1.178</td> <td>    1.350</td>\n",
       "</tr>\n",
       "<tr>\n",
       "  <th>1</th>     <td>   -4.5980</td> <td>    0.050</td> <td>  -91.863</td> <td> 0.000</td> <td>   -4.697</td> <td>   -4.499</td>\n",
       "</tr>\n",
       "</table>\n",
       "<table class=\"simpletable\">\n",
       "<tr>\n",
       "  <th>Omnibus:</th>       <td> 0.557</td> <th>  Durbin-Watson:     </th> <td>   2.298</td>\n",
       "</tr>\n",
       "<tr>\n",
       "  <th>Prob(Omnibus):</th> <td> 0.757</td> <th>  Jarque-Bera (JB):  </th> <td>   0.538</td>\n",
       "</tr>\n",
       "<tr>\n",
       "  <th>Skew:</th>          <td>-0.172</td> <th>  Prob(JB):          </th> <td>   0.764</td>\n",
       "</tr>\n",
       "<tr>\n",
       "  <th>Kurtosis:</th>      <td> 2.895</td> <th>  Cond. No.          </th> <td>    1.26</td>\n",
       "</tr>\n",
       "</table><br/><br/>Notes:<br/>[1] Standard Errors assume that the covariance matrix of the errors is correctly specified."
      ],
      "text/plain": [
       "<class 'statsmodels.iolib.summary.Summary'>\n",
       "\"\"\"\n",
       "                            OLS Regression Results                            \n",
       "==============================================================================\n",
       "Dep. Variable:                      0   R-squared:                       0.989\n",
       "Model:                            OLS   Adj. R-squared:                  0.989\n",
       "Method:                 Least Squares   F-statistic:                     4469.\n",
       "Date:                Tue, 07 Feb 2023   Prob (F-statistic):           3.13e-96\n",
       "Time:                        23:10:12   Log-Likelihood:                -70.878\n",
       "No. Observations:                 100   AIC:                             147.8\n",
       "Df Residuals:                      97   BIC:                             155.6\n",
       "Df Model:                           2                                         \n",
       "Covariance Type:            nonrobust                                         \n",
       "==============================================================================\n",
       "                 coef    std err          t      P>|t|      [0.025      0.975]\n",
       "------------------------------------------------------------------------------\n",
       "const          1.9296      0.050     38.320      0.000       1.830       2.030\n",
       "0              1.2640      0.043     29.206      0.000       1.178       1.350\n",
       "1             -4.5980      0.050    -91.863      0.000      -4.697      -4.499\n",
       "==============================================================================\n",
       "Omnibus:                        0.557   Durbin-Watson:                   2.298\n",
       "Prob(Omnibus):                  0.757   Jarque-Bera (JB):                0.538\n",
       "Skew:                          -0.172   Prob(JB):                        0.764\n",
       "Kurtosis:                       2.895   Cond. No.                         1.26\n",
       "==============================================================================\n",
       "\n",
       "Notes:\n",
       "[1] Standard Errors assume that the covariance matrix of the errors is correctly specified.\n",
       "\"\"\""
      ]
     },
     "execution_count": 61,
     "metadata": {},
     "output_type": "execute_result"
    }
   ],
   "source": [
    "X = pd.read_csv('data_and_materials/syn_X.csv', header=None)\n",
    "y = pd.read_csv('data_and_materials/syn_y.csv', header=None)\n",
    "x = api.add_constant(X)\n",
    "result = api.OLS(y, x).fit()\n",
    "result.summary()\n",
    "# slope, intercept, r_value, p_value, std_err = stats.linregress(X,y)"
   ]
  },
  {
   "cell_type": "code",
   "execution_count": 72,
   "metadata": {},
   "outputs": [
    {
     "ename": "ValueError",
     "evalue": "Unknown label type: (array([ 790.73,  823.76,  839.71,  844.05,  857.62,  860.1 ,  861.26,\n        861.44,  871.34,  871.77,  874.28,  887.47,  893.99,  895.7 ,\n        899.26,  899.53,  904.16,  911.7 ,  911.82,  912.2 ,  912.35,\n        919.73,  921.87,  923.23,  929.15,  934.7 ,  936.23,  938.5 ,\n        941.18,  946.19,  950.67,  952.53,  953.56,  954.44,  958.84,\n        959.22,  961.01,  962.35,  967.8 ,  968.67,  970.47,  971.12,\n        972.46,  982.29,  985.95,  989.26,  991.29,  994.65,  997.87,\n       1001.9 , 1003.5 , 1006.49, 1015.02, 1017.61, 1024.89, 1025.5 ,\n       1030.38, 1071.29, 1113.16]),)",
     "output_type": "error",
     "traceback": [
      "\u001b[1;31m---------------------------------------------------------------------------\u001b[0m",
      "\u001b[1;31mValueError\u001b[0m                                Traceback (most recent call last)",
      "Cell \u001b[1;32mIn [72], line 6\u001b[0m\n\u001b[0;32m      4\u001b[0m Y \u001b[38;5;241m=\u001b[39m data[[\u001b[38;5;124m'\u001b[39m\u001b[38;5;124mMortality\u001b[39m\u001b[38;5;124m'\u001b[39m]]\u001b[38;5;241m.\u001b[39mvalues \n\u001b[0;32m      5\u001b[0m clf \u001b[38;5;241m=\u001b[39m SGDClassifier(loss\u001b[38;5;241m=\u001b[39m\u001b[38;5;124m\"\u001b[39m\u001b[38;5;124mhinge\u001b[39m\u001b[38;5;124m\"\u001b[39m, penalty\u001b[38;5;241m=\u001b[39m\u001b[38;5;124m\"\u001b[39m\u001b[38;5;124ml2\u001b[39m\u001b[38;5;124m\"\u001b[39m, max_iter\u001b[38;5;241m=\u001b[39m\u001b[38;5;241m5\u001b[39m)\n\u001b[1;32m----> 6\u001b[0m clf\u001b[38;5;241m.\u001b[39mfit(X,Y[:,\u001b[38;5;241m0\u001b[39m])\n",
      "File \u001b[1;32md:\\Appdata\\Miniconda\\envs\\LD\\lib\\site-packages\\sklearn\\linear_model\\_stochastic_gradient.py:890\u001b[0m, in \u001b[0;36mBaseSGDClassifier.fit\u001b[1;34m(self, X, y, coef_init, intercept_init, sample_weight)\u001b[0m\n\u001b[0;32m    862\u001b[0m \u001b[39mdef\u001b[39;00m \u001b[39mfit\u001b[39m(\u001b[39mself\u001b[39m, X, y, coef_init\u001b[39m=\u001b[39m\u001b[39mNone\u001b[39;00m, intercept_init\u001b[39m=\u001b[39m\u001b[39mNone\u001b[39;00m, sample_weight\u001b[39m=\u001b[39m\u001b[39mNone\u001b[39;00m):\n\u001b[0;32m    863\u001b[0m     \u001b[39m\"\"\"Fit linear model with Stochastic Gradient Descent.\u001b[39;00m\n\u001b[0;32m    864\u001b[0m \n\u001b[0;32m    865\u001b[0m \u001b[39m    Parameters\u001b[39;00m\n\u001b[1;32m   (...)\u001b[0m\n\u001b[0;32m    888\u001b[0m \u001b[39m        Returns an instance of self.\u001b[39;00m\n\u001b[0;32m    889\u001b[0m \u001b[39m    \"\"\"\u001b[39;00m\n\u001b[1;32m--> 890\u001b[0m     \u001b[39mreturn\u001b[39;00m \u001b[39mself\u001b[39;49m\u001b[39m.\u001b[39;49m_fit(\n\u001b[0;32m    891\u001b[0m         X,\n\u001b[0;32m    892\u001b[0m         y,\n\u001b[0;32m    893\u001b[0m         alpha\u001b[39m=\u001b[39;49m\u001b[39mself\u001b[39;49m\u001b[39m.\u001b[39;49malpha,\n\u001b[0;32m    894\u001b[0m         C\u001b[39m=\u001b[39;49m\u001b[39m1.0\u001b[39;49m,\n\u001b[0;32m    895\u001b[0m         loss\u001b[39m=\u001b[39;49m\u001b[39mself\u001b[39;49m\u001b[39m.\u001b[39;49mloss,\n\u001b[0;32m    896\u001b[0m         learning_rate\u001b[39m=\u001b[39;49m\u001b[39mself\u001b[39;49m\u001b[39m.\u001b[39;49mlearning_rate,\n\u001b[0;32m    897\u001b[0m         coef_init\u001b[39m=\u001b[39;49mcoef_init,\n\u001b[0;32m    898\u001b[0m         intercept_init\u001b[39m=\u001b[39;49mintercept_init,\n\u001b[0;32m    899\u001b[0m         sample_weight\u001b[39m=\u001b[39;49msample_weight,\n\u001b[0;32m    900\u001b[0m     )\n",
      "File \u001b[1;32md:\\Appdata\\Miniconda\\envs\\LD\\lib\\site-packages\\sklearn\\linear_model\\_stochastic_gradient.py:686\u001b[0m, in \u001b[0;36mBaseSGDClassifier._fit\u001b[1;34m(self, X, y, alpha, C, loss, learning_rate, coef_init, intercept_init, sample_weight)\u001b[0m\n\u001b[0;32m    683\u001b[0m \u001b[39m# Clear iteration count for multiple call to fit.\u001b[39;00m\n\u001b[0;32m    684\u001b[0m \u001b[39mself\u001b[39m\u001b[39m.\u001b[39mt_ \u001b[39m=\u001b[39m \u001b[39m1.0\u001b[39m\n\u001b[1;32m--> 686\u001b[0m \u001b[39mself\u001b[39;49m\u001b[39m.\u001b[39;49m_partial_fit(\n\u001b[0;32m    687\u001b[0m     X,\n\u001b[0;32m    688\u001b[0m     y,\n\u001b[0;32m    689\u001b[0m     alpha,\n\u001b[0;32m    690\u001b[0m     C,\n\u001b[0;32m    691\u001b[0m     loss,\n\u001b[0;32m    692\u001b[0m     learning_rate,\n\u001b[0;32m    693\u001b[0m     \u001b[39mself\u001b[39;49m\u001b[39m.\u001b[39;49mmax_iter,\n\u001b[0;32m    694\u001b[0m     classes,\n\u001b[0;32m    695\u001b[0m     sample_weight,\n\u001b[0;32m    696\u001b[0m     coef_init,\n\u001b[0;32m    697\u001b[0m     intercept_init,\n\u001b[0;32m    698\u001b[0m )\n\u001b[0;32m    700\u001b[0m \u001b[39mif\u001b[39;00m (\n\u001b[0;32m    701\u001b[0m     \u001b[39mself\u001b[39m\u001b[39m.\u001b[39mtol \u001b[39mis\u001b[39;00m \u001b[39mnot\u001b[39;00m \u001b[39mNone\u001b[39;00m\n\u001b[0;32m    702\u001b[0m     \u001b[39mand\u001b[39;00m \u001b[39mself\u001b[39m\u001b[39m.\u001b[39mtol \u001b[39m>\u001b[39m \u001b[39m-\u001b[39mnp\u001b[39m.\u001b[39minf\n\u001b[0;32m    703\u001b[0m     \u001b[39mand\u001b[39;00m \u001b[39mself\u001b[39m\u001b[39m.\u001b[39mn_iter_ \u001b[39m==\u001b[39m \u001b[39mself\u001b[39m\u001b[39m.\u001b[39mmax_iter\n\u001b[0;32m    704\u001b[0m ):\n\u001b[0;32m    705\u001b[0m     warnings\u001b[39m.\u001b[39mwarn(\n\u001b[0;32m    706\u001b[0m         \u001b[39m\"\u001b[39m\u001b[39mMaximum number of iteration reached before \u001b[39m\u001b[39m\"\u001b[39m\n\u001b[0;32m    707\u001b[0m         \u001b[39m\"\u001b[39m\u001b[39mconvergence. Consider increasing max_iter to \u001b[39m\u001b[39m\"\u001b[39m\n\u001b[0;32m    708\u001b[0m         \u001b[39m\"\u001b[39m\u001b[39mimprove the fit.\u001b[39m\u001b[39m\"\u001b[39m,\n\u001b[0;32m    709\u001b[0m         ConvergenceWarning,\n\u001b[0;32m    710\u001b[0m     )\n",
      "File \u001b[1;32md:\\Appdata\\Miniconda\\envs\\LD\\lib\\site-packages\\sklearn\\linear_model\\_stochastic_gradient.py:593\u001b[0m, in \u001b[0;36mBaseSGDClassifier._partial_fit\u001b[1;34m(self, X, y, alpha, C, loss, learning_rate, max_iter, classes, sample_weight, coef_init, intercept_init)\u001b[0m\n\u001b[0;32m    581\u001b[0m X, y \u001b[39m=\u001b[39m \u001b[39mself\u001b[39m\u001b[39m.\u001b[39m_validate_data(\n\u001b[0;32m    582\u001b[0m     X,\n\u001b[0;32m    583\u001b[0m     y,\n\u001b[1;32m   (...)\u001b[0m\n\u001b[0;32m    588\u001b[0m     reset\u001b[39m=\u001b[39mfirst_call,\n\u001b[0;32m    589\u001b[0m )\n\u001b[0;32m    591\u001b[0m n_samples, n_features \u001b[39m=\u001b[39m X\u001b[39m.\u001b[39mshape\n\u001b[1;32m--> 593\u001b[0m _check_partial_fit_first_call(\u001b[39mself\u001b[39;49m, classes)\n\u001b[0;32m    595\u001b[0m n_classes \u001b[39m=\u001b[39m \u001b[39mself\u001b[39m\u001b[39m.\u001b[39mclasses_\u001b[39m.\u001b[39mshape[\u001b[39m0\u001b[39m]\n\u001b[0;32m    597\u001b[0m \u001b[39m# Allocate datastructures from input arguments\u001b[39;00m\n",
      "File \u001b[1;32md:\\Appdata\\Miniconda\\envs\\LD\\lib\\site-packages\\sklearn\\utils\\multiclass.py:368\u001b[0m, in \u001b[0;36m_check_partial_fit_first_call\u001b[1;34m(clf, classes)\u001b[0m\n\u001b[0;32m    361\u001b[0m             \u001b[39mraise\u001b[39;00m \u001b[39mValueError\u001b[39;00m(\n\u001b[0;32m    362\u001b[0m                 \u001b[39m\"\u001b[39m\u001b[39m`classes=\u001b[39m\u001b[39m%r\u001b[39;00m\u001b[39m` is not the same as on last call \u001b[39m\u001b[39m\"\u001b[39m\n\u001b[0;32m    363\u001b[0m                 \u001b[39m\"\u001b[39m\u001b[39mto partial_fit, was: \u001b[39m\u001b[39m%r\u001b[39;00m\u001b[39m\"\u001b[39m \u001b[39m%\u001b[39m (classes, clf\u001b[39m.\u001b[39mclasses_)\n\u001b[0;32m    364\u001b[0m             )\n\u001b[0;32m    366\u001b[0m     \u001b[39melse\u001b[39;00m:\n\u001b[0;32m    367\u001b[0m         \u001b[39m# This is the first call to partial_fit\u001b[39;00m\n\u001b[1;32m--> 368\u001b[0m         clf\u001b[39m.\u001b[39mclasses_ \u001b[39m=\u001b[39m unique_labels(classes)\n\u001b[0;32m    369\u001b[0m         \u001b[39mreturn\u001b[39;00m \u001b[39mTrue\u001b[39;00m\n\u001b[0;32m    371\u001b[0m \u001b[39m# classes is None and clf.classes_ has already previously been set:\u001b[39;00m\n\u001b[0;32m    372\u001b[0m \u001b[39m# nothing to do\u001b[39;00m\n",
      "File \u001b[1;32md:\\Appdata\\Miniconda\\envs\\LD\\lib\\site-packages\\sklearn\\utils\\multiclass.py:103\u001b[0m, in \u001b[0;36munique_labels\u001b[1;34m(*ys)\u001b[0m\n\u001b[0;32m    101\u001b[0m _unique_labels \u001b[39m=\u001b[39m _FN_UNIQUE_LABELS\u001b[39m.\u001b[39mget(label_type, \u001b[39mNone\u001b[39;00m)\n\u001b[0;32m    102\u001b[0m \u001b[39mif\u001b[39;00m \u001b[39mnot\u001b[39;00m _unique_labels:\n\u001b[1;32m--> 103\u001b[0m     \u001b[39mraise\u001b[39;00m \u001b[39mValueError\u001b[39;00m(\u001b[39m\"\u001b[39m\u001b[39mUnknown label type: \u001b[39m\u001b[39m%s\u001b[39;00m\u001b[39m\"\u001b[39m \u001b[39m%\u001b[39m \u001b[39mrepr\u001b[39m(ys))\n\u001b[0;32m    105\u001b[0m ys_labels \u001b[39m=\u001b[39m \u001b[39mset\u001b[39m(chain\u001b[39m.\u001b[39mfrom_iterable(_unique_labels(y) \u001b[39mfor\u001b[39;00m y \u001b[39min\u001b[39;00m ys))\n\u001b[0;32m    107\u001b[0m \u001b[39m# Check that we don't mix string type with number type\u001b[39;00m\n",
      "\u001b[1;31mValueError\u001b[0m: Unknown label type: (array([ 790.73,  823.76,  839.71,  844.05,  857.62,  860.1 ,  861.26,\n        861.44,  871.34,  871.77,  874.28,  887.47,  893.99,  895.7 ,\n        899.26,  899.53,  904.16,  911.7 ,  911.82,  912.2 ,  912.35,\n        919.73,  921.87,  923.23,  929.15,  934.7 ,  936.23,  938.5 ,\n        941.18,  946.19,  950.67,  952.53,  953.56,  954.44,  958.84,\n        959.22,  961.01,  962.35,  967.8 ,  968.67,  970.47,  971.12,\n        972.46,  982.29,  985.95,  989.26,  991.29,  994.65,  997.87,\n       1001.9 , 1003.5 , 1006.49, 1015.02, 1017.61, 1024.89, 1025.5 ,\n       1030.38, 1071.29, 1113.16]),)"
     ]
    }
   ],
   "source": [
    "from sklearn.linear_model import SGDClassifier\n",
    "data = pd.read_csv('data/mortality.csv')\n",
    "X = list(data[['JanTemp', 'JulyTemp', 'RelHum', 'Rain', 'Educ', 'Dens', 'NonWhite', 'WhiteCollar', 'Pop', 'House', 'Income', 'HC', 'NOx', 'SO2']].values)\n",
    "Y = data[['Mortality']].values \n",
    "clf = SGDClassifier(loss=\"hinge\", penalty=\"l2\", max_iter=5)\n",
    "clf.fit(X,Y[:,0])\n",
    "# clf.coef_, clf.intercept_\n"
   ]
  },
  {
   "cell_type": "code",
   "execution_count": null,
   "metadata": {},
   "outputs": [],
   "source": []
  }
 ],
 "metadata": {
  "kernelspec": {
   "display_name": "Python 3.10.4 ('LD')",
   "language": "python",
   "name": "python3"
  },
  "language_info": {
   "codemirror_mode": {
    "name": "ipython",
    "version": 3
   },
   "file_extension": ".py",
   "mimetype": "text/x-python",
   "name": "python",
   "nbconvert_exporter": "python",
   "pygments_lexer": "ipython3",
   "version": "3.10.4"
  },
  "orig_nbformat": 4,
  "vscode": {
   "interpreter": {
    "hash": "31c4a5216d1b70edb8ccadb0033ed466ad602c2eadb1aba86d4896a8d7ddf022"
   }
  }
 },
 "nbformat": 4,
 "nbformat_minor": 2
}
