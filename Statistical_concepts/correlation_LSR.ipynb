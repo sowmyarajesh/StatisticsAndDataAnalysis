{
  "nbformat": 4,
  "nbformat_minor": 0,
  "metadata": {
    "colab": {
      "provenance": [],
      "authorship_tag": "ABX9TyNC3QE8DRsNHjchNj+MZAI7",
      "include_colab_link": true
    },
    "kernelspec": {
      "name": "python3",
      "display_name": "Python 3"
    },
    "language_info": {
      "name": "python"
    }
  },
  "cells": [
    {
      "cell_type": "markdown",
      "metadata": {
        "id": "view-in-github",
        "colab_type": "text"
      },
      "source": [
        "<a href=\"https://colab.research.google.com/github/sowmyarajesh/StatisticsAndDataScience/blob/main/correlation_LSR.ipynb\" target=\"_parent\"><img src=\"https://colab.research.google.com/assets/colab-badge.svg\" alt=\"Open In Colab\"/></a>"
      ]
    },
    {
      "cell_type": "code",
      "execution_count": null,
      "metadata": {
        "id": "HkvWtDgXUshi"
      },
      "outputs": [],
      "source": [
        "import numpy as np\n",
        "import scipy.stats as stats\n",
        "import matplotlib.pyplot as plt \n"
      ]
    },
    {
      "cell_type": "code",
      "source": [
        "Xs = np.array([0.0339, 0.0423, 0.213, 0.257, 0.273, 0.273, 0.450, 0.503, 0.503, \\\n",
        "0.637, 0.805, 0.904, 0.904, 0.910, 0.910, 1.02, 1.11, 1.11, 1.41, \\\n",
        "1.72, 2.03, 2.02, 2.02, 2.02])\n",
        "\n",
        "Ys = np.array([-19.3, 30.4, 38.7, 5.52, -33.1, -77.3, 398.0, 406.0, 436.0, 320.0, 373.0, \\\n",
        "93.9, 210.0, 423.0, 594.0, 829.0, 718.0, 561.0, 608.0, 1.04E3, 1.10E3, \\\n",
        "840.0, 801.0, 519.0])\n",
        "\n",
        "N = 24"
      ],
      "metadata": {
        "id": "Sbrh9mcYZWOb"
      },
      "execution_count": null,
      "outputs": []
    },
    {
      "cell_type": "code",
      "source": [
        "# Calculate the sample mean of the Xs and Ys\n",
        "Xs_mean = np.mean(Xs)\n",
        "Ys_mean = np.mean(Ys)\n",
        "Xs_mean, Ys_mean"
      ],
      "metadata": {
        "colab": {
          "base_uri": "https://localhost:8080/"
        },
        "id": "wTd6aLjWZX75",
        "outputId": "795e5797-dc23-4cc4-e7cf-0eb677541c03"
      },
      "execution_count": null,
      "outputs": [
        {
          "output_type": "execute_result",
          "data": {
            "text/plain": [
              "(0.9199250000000001, 425.6175)"
            ]
          },
          "metadata": {},
          "execution_count": 8
        }
      ]
    },
    {
      "cell_type": "code",
      "source": [
        "# Calculate the standard deviation\n",
        "Sx = np.std(Xs, ddof=1)\n",
        "Sy = np.std(Ys, ddof=1)\n",
        "np.round(Sx,3),np.round(Sy,3)"
      ],
      "metadata": {
        "colab": {
          "base_uri": "https://localhost:8080/"
        },
        "id": "qLmRZAPKZyvf",
        "outputId": "1798f5c7-31bb-4cbd-dbd7-6547d1802b95"
      },
      "execution_count": null,
      "outputs": [
        {
          "output_type": "execute_result",
          "data": {
            "text/plain": [
              "(0.653, 348.734)"
            ]
          },
          "metadata": {},
          "execution_count": 19
        }
      ]
    },
    {
      "cell_type": "code",
      "source": [
        "#Correlation coefficient\n",
        "r = np.corrcoef(Xs,Ys)"
      ],
      "metadata": {
        "id": "-2GpyV7eNIJE"
      },
      "execution_count": null,
      "outputs": []
    },
    {
      "cell_type": "code",
      "source": [
        "# calculate the covariance\n",
        "Sx2 = np.round(np.var(Xs, ddof=1))\n",
        "Sy2 = np.round(np.var(Ys, ddof=1))\n",
        "SxSy = Sx*Sy\n",
        "Sx2Sy2 = Sx2*Sy2\n",
        "\n",
        "print('\\nSx2 = ',Sx2,'\\nSy2 = ', Sy2,'\\nSxSy = ',SxSy,'\\nSx2Sy2 = ',Sx2Sy2)\n",
        "cov_matrix = np.round(np.cov(Xs,Ys, ddof=1),3)\n",
        "np.max(cov_matrix), cov_matrix[0,1]"
      ],
      "metadata": {
        "colab": {
          "base_uri": "https://localhost:8080/"
        },
        "id": "Ii2pUa43wEy6",
        "outputId": "5d4629b8-20e2-45d6-aee9-1082374bb972"
      },
      "execution_count": null,
      "outputs": [
        {
          "output_type": "stream",
          "name": "stdout",
          "text": [
            "\n",
            "Sx2 =  0.0 \n",
            "Sy2 =  121615.0 \n",
            "SxSy =  227.8607674169533 \n",
            "Sx2Sy2 =  0.0\n"
          ]
        },
        {
          "output_type": "execute_result",
          "data": {
            "text/plain": [
              "(121615.164, 191.207)"
            ]
          },
          "metadata": {},
          "execution_count": 28
        }
      ]
    },
    {
      "cell_type": "code",
      "source": [
        "beta1 = r*(Sy/Sx)\n",
        "beta1"
      ],
      "metadata": {
        "colab": {
          "base_uri": "https://localhost:8080/"
        },
        "id": "6ENMkQ0NZ-S9",
        "outputId": "aea04007-1f8e-447f-aa9b-cb6401876e85"
      },
      "execution_count": null,
      "outputs": [
        {
          "output_type": "execute_result",
          "data": {
            "text/plain": [
              "array([[533.72577145, 447.87059914],\n",
              "       [447.87059914, 533.72577145]])"
            ]
          },
          "metadata": {},
          "execution_count": 32
        }
      ]
    },
    {
      "cell_type": "code",
      "source": [
        "\n",
        "plt.scatter(Xs, Ys) # Create the scatter plot, Xs and Ys are two numpy arrays of the same length\n",
        "plt.show()\n",
        "\n",
        "plt.plot(Xs, Ys)"
      ],
      "metadata": {
        "colab": {
          "base_uri": "https://localhost:8080/",
          "height": 531
        },
        "id": "4SyqSdrlVYG6",
        "outputId": "86c80750-cc1a-4076-a9fc-2de36a7e1268"
      },
      "execution_count": null,
      "outputs": [
        {
          "output_type": "display_data",
          "data": {
            "text/plain": [
              "<Figure size 432x288 with 1 Axes>"
            ],
            "image/png": "[encoded data removed]"
          },
          "metadata": {
            "needs_background": "light"
          }
        },
        {
          "output_type": "execute_result",
          "data": {
            "text/plain": [
              "[<matplotlib.lines.Line2D at 0x7f2d2c89e610>]"
            ]
          },
          "metadata": {},
          "execution_count": 6
        },
        {
          "output_type": "display_data",
          "data": {
            "text/plain": [
              "<Figure size 432x288 with 1 Axes>"
            ],
            "image/png": "[encoded data removed]"
          },
          "metadata": {
            "needs_background": "light"
          }
        }
      ]
    },
    {
      "cell_type": "code",
      "source": [
        "import numpy as np\n",
        "# np.linalg.inv(matrix_to_invert)"
      ],
      "metadata": {
        "id": "945iAI3mVgth"
      },
      "execution_count": null,
      "outputs": []
    },
    {
      "cell_type": "code",
      "source": [
        "import scipy.stats\n",
        "# scipy.stats.t.sf(T, num_degrees_of_freedom)"
      ],
      "metadata": {
        "id": "ZI8su9EmV119"
      },
      "execution_count": null,
      "outputs": []
    },
    {
      "cell_type": "code",
      "source": [
        "X = [1,2,3,4]\n",
        "Y = [1,4,9,16]\n",
        "np.corrcoef(X,Y)"
      ],
      "metadata": {
        "colab": {
          "base_uri": "https://localhost:8080/"
        },
        "id": "JIMrPN0AV2wX",
        "outputId": "a3353ba1-cd5a-4239-e2d4-172b5c1855ae"
      },
      "execution_count": null,
      "outputs": [
        {
          "output_type": "execute_result",
          "data": {
            "text/plain": [
              "array([[1.        , 0.98437404],\n",
              "       [0.98437404, 1.        ]])"
            ]
          },
          "metadata": {},
          "execution_count": 30
        }
      ]
    },
    {
      "cell_type": "markdown",
      "source": [
        "### Excersice -2 data"
      ],
      "metadata": {
        "id": "E99yW4X2LPfq"
      }
    },
    {
      "cell_type": "code",
      "source": [
        "import numpy as np\n",
        "from scipy import stats\n",
        "import matplotlib.pyplot as plt \n",
        "\n",
        "Xs = np.array([ 0.387, 0.723, 1.00, 1.52, 5.20, 9.54, 19.2, 30.1, 39.5 ])\n",
        "\n",
        "Ys = np.array([ 0.241, 0.615, 1.00, 1.88, 11.9, 29.5, 84.0, 165.0, 248 ])\n",
        "\n",
        "N = 9"
      ],
      "metadata": {
        "id": "O6_lj7lQVXQk"
      },
      "execution_count": 5,
      "outputs": []
    },
    {
      "cell_type": "code",
      "source": [
        "# Get the correlation coeffecients for the data\n",
        "r = np.corrcoef(Xs,Ys)\n",
        "print(\"Correlation Matrix between X and Y = {}\".format(r))\n",
        "\n",
        "# Calculate the standard deviation\n",
        "Sx = np.std(Xs, ddof=1)\n",
        "Sy = np.std(Ys, ddof=1)\n",
        "print(\"Standard Deviation of X = {}\".format(Sx))\n",
        "print(\"Standard Deviation of Y = {}\".format(Sy))\n",
        "\n",
        "# Variance\n",
        "Sx2 = np.round(np.var(Xs, ddof=1))\n",
        "Sy2 = np.round(np.var(Ys, ddof=1))\n",
        "\n",
        "print(\"Variance of X = {}\".format(Sx2))\n",
        "print(\"Variance of Y = {}\".format(Sy2))\n",
        "\n",
        "# Covariance\n",
        "cov_matrix = np.round(np.cov(Xs,Ys, ddof=1),3)\n",
        "print(\"Covariance Matrix of X,Y = {}\".format(cov_matrix))\n"
      ],
      "metadata": {
        "colab": {
          "base_uri": "https://localhost:8080/"
        },
        "id": "RgiWdVZ7LS2X",
        "outputId": "3a889554-811a-463a-dd39-76d3ade68c7f"
      },
      "execution_count": 10,
      "outputs": [
        {
          "output_type": "stream",
          "name": "stdout",
          "text": [
            "Correlation Matrix between X and Y = [[1.        0.9888323]\n",
            " [0.9888323 1.       ]]\n",
            "Standard Deviation of X = 14.494731601324823\n",
            "Standard Deviation of Y = 89.54398623162808\n",
            "Variance of X = 210.0\n",
            "Variance of Y = 8018.0\n",
            "Covariance Matrix of X,Y = [[ 210.097 1283.421]\n",
            " [1283.421 8018.125]]\n"
          ]
        }
      ]
    },
    {
      "cell_type": "code",
      "source": [
        "# Linear Regression\n",
        "beta1 = r*(Sy/Sx)\n",
        "print(\"Beta1 value = {}\".format(beta1))\n",
        "slope, intercept, r_value, p_value, std_err = stats.linregress(Xs,Ys)\n",
        "print(\"Slope = {}\".format(slope))\n",
        "print(\"intercept = {}\".format(intercept))\n",
        "print(\"r_value = {}\".format(r_value))\n",
        "print(\"std_err = {}\".format(std_err))"
      ],
      "metadata": {
        "colab": {
          "base_uri": "https://localhost:8080/"
        },
        "id": "Dg6luakdPYbh",
        "outputId": "c6bbbdc9-e9cf-4287-cca9-fd6c7bbc87dd"
      },
      "execution_count": 12,
      "outputs": [
        {
          "output_type": "stream",
          "name": "stdout",
          "text": [
            "Beta1 value = [[6.17769192 6.10870132]\n",
            " [6.10870132 6.17769192]]\n",
            "Slope = 6.108701317117372\n",
            "intercept = -12.50372446171874\n",
            "r_value = 0.9888323018726731\n",
            "std_err = 0.34798309108111397\n"
          ]
        }
      ]
    },
    {
      "cell_type": "code",
      "source": [
        "predict_y = [x*slope+intercept for x in Xs]\n",
        "print(predict_y)"
      ],
      "metadata": {
        "colab": {
          "base_uri": "https://localhost:8080/"
        },
        "id": "FM0nZcySR3mE",
        "outputId": "75307c74-dcb9-4909-9bbb-1256a521be57"
      },
      "execution_count": 14,
      "outputs": [
        {
          "output_type": "stream",
          "name": "stdout",
          "text": [
            "[-10.139657051994316, -8.08713340944288, -6.3950231446013674, -3.218498459700333, 19.2615223872916, 45.773286103580986, 104.78334082693479, 171.36818518351416, 228.78997756441746]\n"
          ]
        }
      ]
    },
    {
      "cell_type": "code",
      "source": [
        "# map the residuals and see\n",
        "plt.scatter(Xs,Ys)\n",
        "plt.plot(predict_y, Ys)\n",
        "plt.show()"
      ],
      "metadata": {
        "colab": {
          "base_uri": "https://localhost:8080/",
          "height": 265
        },
        "id": "OxyGGSEzNBCc",
        "outputId": "69b1a035-6285-4dcb-e65c-3320a727eeb3"
      },
      "execution_count": 15,
      "outputs": [
        {
          "output_type": "display_data",
          "data": {
            "text/plain": [
              "<Figure size 432x288 with 1 Axes>"
            ],
            "image/png": "[encoded data removed]"
          },
          "metadata": {
            "needs_background": "light"
          }
        }
      ]
    },
    {
      "cell_type": "markdown",
      "source": [
        "Q-Q plots are another method of assessing how appropriate our model is for the given data.\n",
        "\n",
        "You can create these plots using the statsmodels python package."
      ],
      "metadata": {
        "id": "31sbd1xjTIAt"
      }
    },
    {
      "cell_type": "code",
      "source": [
        "import statsmodels.api as sm\n",
        "sm.qqplot(Xs, line='s')\n",
        "plt.title(\"X distribution\")\n",
        "plt.show()"
      ],
      "metadata": {
        "colab": {
          "base_uri": "https://localhost:8080/",
          "height": 295
        },
        "id": "S3wzwPY_NnL9",
        "outputId": "cdcec9f0-f594-475d-8cbe-ce0a898539d0"
      },
      "execution_count": 16,
      "outputs": [
        {
          "output_type": "display_data",
          "data": {
            "text/plain": [
              "<Figure size 432x288 with 1 Axes>"
            ],
            "image/png": "[encoded data removed]"
          },
          "metadata": {
            "needs_background": "light"
          }
        }
      ]
    },
    {
      "cell_type": "code",
      "source": [
        "sm.qqplot(Ys, line='s')\n",
        "plt.title(\"Y distribution\")\n",
        "plt.show()"
      ],
      "metadata": {
        "colab": {
          "base_uri": "https://localhost:8080/",
          "height": 295
        },
        "id": "PuLD3kDLStIG",
        "outputId": "459cf639-e9db-46ac-adfb-df58124db118"
      },
      "execution_count": 17,
      "outputs": [
        {
          "output_type": "display_data",
          "data": {
            "text/plain": [
              "<Figure size 432x288 with 1 Axes>"
            ],
            "image/png": "[encoded data removed]"
          },
          "metadata": {
            "needs_background": "light"
          }
        }
      ]
    },
    {
      "cell_type": "code",
      "source": [
        "# try various tranformation\n",
        "\n",
        "def checkModel(X,Y):\n",
        "  slope, intercept, r_value, p_value, std_err = stats.linregress(X,Y)\n",
        "  print(\"Slope = {}\".format(slope))\n",
        "  print(\"intercept = {}\".format(intercept))\n",
        "  print(\"r_value = {}\".format(r_value))\n",
        "  print(\"std_err = {}\".format(std_err))\n",
        "  predict_y = [x*slope+intercept for x in X]\n",
        "  print(predict_y)\n",
        "  # map the residuals and see\n",
        "  plt.scatter(X,Y)\n",
        "  plt.plot(X,predict_y)\n",
        "  plt.show()\n",
        "  # # try qq plot\n",
        "  # sm.qqplot(X, line='s')\n",
        "  # plt.title(\"X distribution\")\n",
        "  # plt.show()\n",
        "  # sm.qqplot(Y, line='s')\n",
        "  # plt.title(\"Y distribution\")\n",
        "  # plt.show()"
      ],
      "metadata": {
        "id": "vhQQHTHWTAeI"
      },
      "execution_count": 39,
      "outputs": []
    },
    {
      "cell_type": "code",
      "source": [
        "checkModel(Xs,Ys)"
      ],
      "metadata": {
        "colab": {
          "base_uri": "https://localhost:8080/",
          "height": 376
        },
        "id": "gbbj1MYsfXT8",
        "outputId": "bffa062c-0417-4b4a-f06a-aba2dd6226cf"
      },
      "execution_count": 40,
      "outputs": [
        {
          "output_type": "stream",
          "name": "stdout",
          "text": [
            "Slope = 6.108701317117372\n",
            "intercept = -12.50372446171874\n",
            "r_value = 0.9888323018726731\n",
            "std_err = 0.34798309108111397\n",
            "[-10.139657051994316, -8.08713340944288, -6.3950231446013674, -3.218498459700333, 19.2615223872916, 45.773286103580986, 104.78334082693479, 171.36818518351416, 228.78997756441746]\n"
          ]
        },
        {
          "output_type": "display_data",
          "data": {
            "text/plain": [
              "<Figure size 432x288 with 1 Axes>"
            ],
            "image/png": "[encoded data removed]"
          },
          "metadata": {
            "needs_background": "light"
          }
        }
      ]
    },
    {
      "cell_type": "code",
      "source": [
        "\n",
        "# try with y = log(Y)\n",
        "Xt = Xs\n",
        "Yt = np.log(Ys)\n",
        "checkModel(Xt,Yt)"
      ],
      "metadata": {
        "colab": {
          "base_uri": "https://localhost:8080/",
          "height": 356
        },
        "id": "GHBO0wUOeDFr",
        "outputId": "ba2c2a1c-c2c9-4003-e94b-a036ed43d389"
      },
      "execution_count": 41,
      "outputs": [
        {
          "output_type": "stream",
          "name": "stdout",
          "text": [
            "Slope = 0.15943483693978164\n",
            "intercept = 0.2829631808567219\n",
            "r_value = 0.8934867397813706\n",
            "std_err = 0.030288590488075154\n",
            "[0.3446644627524174, 0.398234567964184, 0.44239801779650356, 0.52530413300519, 1.1120243329435864, 1.8039715252622386, 3.344112050100529, 5.08195177274415, 6.580639239978097]\n"
          ]
        },
        {
          "output_type": "display_data",
          "data": {
            "text/plain": [
              "<Figure size 432x288 with 1 Axes>"
            ],
            "image/png": "[encoded data removed]"
          },
          "metadata": {
            "needs_background": "light"
          }
        }
      ]
    },
    {
      "cell_type": "code",
      "source": [
        "# try with X = log(X) and Y = Y\n",
        "Xt = np.log(Xs)\n",
        "Yt = Ys\n",
        "checkModel(Xt,Yt)"
      ],
      "metadata": {
        "colab": {
          "base_uri": "https://localhost:8080/",
          "height": 376
        },
        "id": "Of6UvayieMVi",
        "outputId": "561deb9b-beab-4813-afc6-079a9359f37a"
      },
      "execution_count": 42,
      "outputs": [
        {
          "output_type": "stream",
          "name": "stdout",
          "text": [
            "Slope = 42.85582249504597\n",
            "intercept = -2.0698990460800246\n",
            "r_value = 0.825510707047443\n",
            "std_err = 11.074259288882718\n",
            "[-42.75424212677214, -15.970016084270567, -2.0698990460800246, 15.874276741443612, 68.58472236701925, 94.59112940553464, 124.56521136097652, 143.83382739456087, 155.48098998758786]\n"
          ]
        },
        {
          "output_type": "display_data",
          "data": {
            "text/plain": [
              "<Figure size 432x288 with 1 Axes>"
            ],
            "image/png": "[encoded data removed]"
          },
          "metadata": {
            "needs_background": "light"
          }
        }
      ]
    },
    {
      "cell_type": "code",
      "source": [
        "# try with X = log(X) and Y = log(Y)\n",
        "Xt = np.log(Xs)\n",
        "Yt = np.log(Ys)\n",
        "checkModel(Xt,Yt)"
      ],
      "metadata": {
        "colab": {
          "base_uri": "https://localhost:8080/",
          "height": 376
        },
        "id": "pS4j7SWTeZmf",
        "outputId": "084247f2-85cb-424c-9e04-dd59bc446ade"
      },
      "execution_count": 43,
      "outputs": [
        {
          "output_type": "stream",
          "name": "stdout",
          "text": [
            "Slope = 1.4995325773381893\n",
            "intercept = 0.0013370447605036695\n",
            "r_value = 0.9999998085102114\n",
            "std_err = 0.00035074763815870957\n",
            "[-1.422215095538605, -0.4850304337773268, 0.0013370447605036695, 0.6292068323485341, 2.473554362738387, 3.383523004182126, 4.432321271283071, 5.106533450174766, 5.514069666375439]\n"
          ]
        },
        {
          "output_type": "display_data",
          "data": {
            "text/plain": [
              "<Figure size 432x288 with 1 Axes>"
            ],
            "image/png": "[encoded data removed]"
          },
          "metadata": {
            "needs_background": "light"
          }
        }
      ]
    },
    {
      "cell_type": "code",
      "source": [
        "# try with X = X and Y = Y*Y\n",
        "Xt = Xs\n",
        "Yt = Ys*Ys\n",
        "checkModel(Xt,Yt)"
      ],
      "metadata": {
        "colab": {
          "base_uri": "https://localhost:8080/",
          "height": 376
        },
        "id": "s5X-jqAiege1",
        "outputId": "8d5a20ea-1d5d-4b4f-d479-a62c8f3acdea"
      },
      "execution_count": 44,
      "outputs": [
        {
          "output_type": "stream",
          "name": "stdout",
          "text": [
            "Slope = 1333.1363800630938\n",
            "intercept = -5118.9327939290815\n",
            "r_value = 0.9194701820380641\n",
            "std_err = 215.45518693720538\n",
            "[-4603.009014844664, -4155.0751911434645, -3785.7964138659877, -3092.565496233179, 1813.3763823990066, 7599.188271872832, 20477.28570328232, 35008.47224597004, 47539.95421856312]\n"
          ]
        },
        {
          "output_type": "display_data",
          "data": {
            "text/plain": [
              "<Figure size 432x288 with 1 Axes>"
            ],
            "image/png": "[encoded data removed]"
          },
          "metadata": {
            "needs_background": "light"
          }
        }
      ]
    },
    {
      "cell_type": "markdown",
      "source": [
        "Comparing the transformation, only X = log(X) and Y = log(Y) fits the most into reducing the residual errors.\n",
        "\n",
        "Now lets represent the transformed method as regular x and y"
      ],
      "metadata": {
        "id": "gulip8LXggXR"
      }
    },
    {
      "cell_type": "code",
      "source": [
        "slope, intercept, r_value, p_value, std_err = stats.linregress(np.log(Xs),np.log(Ys))\n",
        "print(\"Slope = {}\".format(slope))\n",
        "print(\"intercept = {}\".format(intercept))\n",
        "print(\"r_value = {}\".format(r_value))\n",
        "print(\"std_err = {}\".format(std_err))\n",
        "\n",
        "predict_y = [np.log(x)*1.50+intercept for x in Xs]\n",
        "print(predict_y)\n",
        "\n",
        "# map the residuals and see\n",
        "plt.scatter(Xs,np.log(Ys))\n",
        "plt.plot(Xs, predict_y )\n",
        "plt.show()\n",
        "\n",
        "plt.scatter(Xs,Ys)\n",
        "plt.plot(Xs, np.exp(predict_y))\n",
        "plt.show()"
      ],
      "metadata": {
        "colab": {
          "base_uri": "https://localhost:8080/",
          "height": 624
        },
        "id": "N893N1sveq8e",
        "outputId": "f009cbd5-4b6c-4db1-b9cc-9104704ed6c4"
      },
      "execution_count": 53,
      "outputs": [
        {
          "output_type": "stream",
          "name": "stdout",
          "text": [
            "Slope = 1.4995325773381893\n",
            "intercept = 0.0013370447605036695\n",
            "r_value = 0.9999998085102114\n",
            "std_err = 0.00035074763815870957\n",
            "[-1.422658834168029, -0.48518204047455493, 0.0013370447605036695, 0.6294025470477812, 2.474324983141576, 3.3845772729507964, 4.433702463311107, 5.108124802392748, 5.515788052621119]\n"
          ]
        },
        {
          "output_type": "display_data",
          "data": {
            "text/plain": [
              "<Figure size 432x288 with 1 Axes>"
            ],
            "image/png": "[encoded data removed]"
          },
          "metadata": {
            "needs_background": "light"
          }
        },
        {
          "output_type": "display_data",
          "data": {
            "text/plain": [
              "<Figure size 432x288 with 1 Axes>"
            ],
            "image/png": "[encoded data removed]"
          },
          "metadata": {
            "needs_background": "light"
          }
        }
      ]
    },
    {
      "cell_type": "code",
      "source": [
        "np.log(3),np.exp(np.log(3))"
      ],
      "metadata": {
        "colab": {
          "base_uri": "https://localhost:8080/"
        },
        "id": "6SW_Xn86ha_Z",
        "outputId": "57cffc1c-c89e-4558-df02-558ac16601eb"
      },
      "execution_count": 47,
      "outputs": [
        {
          "output_type": "execute_result",
          "data": {
            "text/plain": [
              "(1.0986122886681098, 3.0000000000000004)"
            ]
          },
          "metadata": {},
          "execution_count": 47
        }
      ]
    },
    {
      "cell_type": "code",
      "source": [
        "np.exp(intercept)"
      ],
      "metadata": {
        "colab": {
          "base_uri": "https://localhost:8080/"
        },
        "id": "E6yUUZX0jGgp",
        "outputId": "a0b0fd22-671e-4771-c84e-97f34a06a7a5"
      },
      "execution_count": 48,
      "outputs": [
        {
          "output_type": "execute_result",
          "data": {
            "text/plain": [
              "1.0013379390033526"
            ]
          },
          "metadata": {},
          "execution_count": 48
        }
      ]
    },
    {
      "cell_type": "markdown",
      "source": [
        "### Exoplanet mass data.\n",
        "\n",
        "\n",
        "LogPlanetMass -  is the logarithm of the observed exoplanet's mass in units of Jupiter's mass. A LogPlanetMass of zero is an exoplanet with the same mass as Jupiter. Jupiter is used as a convenient comparison, as large gas giants are the most easily detected, and thus most commonly observed, kind of exoplanet. \n",
        "\n",
        "LogPlanetRadius - is the logarithm of the observed exoplanet's radius in units of Jupiter's radius, for much the same reason. \n",
        "\n",
        "LogPlanetOrbit - is the logarithm of the observed planet's semi-major axis of orbit, in units of AU. \n",
        "\n",
        "StarMetallicity - is the relative amount of metals observed in the parent star. It is equal to the logarithm of the ratio of the observed abundance of metal to the observed abundance of metal in the Sun. The Sun is a quite average star, so it serves as a good reference point. The most common metal to measure is Iron, but astronomers define any element that isn't Hydrogen or Helium as a metal. \n",
        "\n",
        "LogStarMass - is the logarithm of the parent star's mass in units of the Sun's mass. \n",
        "\n",
        "LogStarAge -  is the logarithm of the parent star's age in giga-years."
      ],
      "metadata": {
        "id": "MsU8eQXa44VH"
      }
    },
    {
      "cell_type": "code",
      "source": [
        "import numpy as np\n",
        "from scipy import stats\n",
        "import matplotlib.pyplot as plt\n",
        "\n",
        "LogPlanetMass = np.array([-0.31471074,  1.01160091,  0.58778666,  0.46373402, -0.01005034,\n",
        "         0.66577598, -1.30933332, -0.37106368, -0.40047757, -0.27443685,\n",
        "         1.30833282, -0.46840491, -1.91054301,  0.16551444,  0.78845736,\n",
        "        -2.43041846,  0.21511138,  2.29253476, -2.05330607, -0.43078292,\n",
        "        -4.98204784, -0.48776035, -1.69298258, -0.08664781, -2.28278247,\n",
        "         3.30431931, -3.27016912,  1.14644962, -3.10109279, -0.61248928])\n",
        "\n",
        "LogPlanetRadius = np.array([ 0.32497786,  0.34712953,  0.14842001,  0.45742485,  0.1889661 ,\n",
        "         0.06952606,  0.07696104,  0.3220835 ,  0.42918163, -0.05762911,\n",
        "         0.40546511,  0.19227189, -0.16251893,  0.45107562,  0.3825376 ,\n",
        "        -0.82098055,  0.10436002,  0.0295588 , -1.17921515,  0.55961579,\n",
        "        -2.49253568,  0.11243543, -0.72037861,  0.36464311, -0.46203546,\n",
        "         0.13976194, -2.70306266,  0.12221763, -2.41374014,  0.35627486])\n",
        "\n",
        "LogPlanetOrbit = np.array([-2.63108916, -3.89026151, -3.13752628, -2.99633245, -3.12356565,\n",
        "        -2.33924908, -2.8507665 , -3.04765735, -2.84043939, -3.19004544,\n",
        "        -3.14655516, -3.13729584, -3.09887303, -3.09004295, -3.16296819,\n",
        "        -2.3227878 , -3.77661837, -2.52572864, -4.13641734, -3.05018846,\n",
        "        -2.40141145, -3.14795149, -0.40361682, -3.2148838 , -2.74575207,\n",
        "        -3.70014265, -1.98923527, -3.35440922, -1.96897409, -2.99773428])\n",
        "\n",
        "StarMetallicity = np.array([ 0.11 , -0.002, -0.4  ,  0.01 ,  0.15 ,  0.22 , -0.01 ,  0.02 ,\n",
        "        -0.06 , -0.127,  0.   ,  0.12 ,  0.27 ,  0.09 , -0.077,  0.3  ,\n",
        "         0.14 , -0.07 ,  0.19 , -0.02 ,  0.12 ,  0.251,  0.07 ,  0.16 ,\n",
        "         0.19 ,  0.052, -0.32 ,  0.258,  0.02 , -0.17 ])\n",
        "\n",
        "LogStarMass = np.array([ 0.27002714,  0.19144646, -0.16369609,  0.44468582,  0.19227189,\n",
        "         0.01291623,  0.0861777 ,  0.1380213 ,  0.49469624, -0.43850496,\n",
        "         0.54232429,  0.02469261,  0.07325046,  0.42133846,  0.2592826 ,\n",
        "        -0.09431068, -0.24846136, -0.12783337, -0.07364654,  0.26159474,\n",
        "         0.07603469, -0.07796154,  0.09440068,  0.07510747,  0.17395331,\n",
        "         0.28893129, -0.21940057,  0.02566775, -0.09211529,  0.16551444])\n",
        "\n",
        "LogStarAge = np.array([ 1.58103844,  1.06471074,  2.39789527,  0.72754861,  0.55675456,\n",
        "         1.91692261,  1.64865863,  1.38629436,  0.77472717,  1.36097655,\n",
        "         0.        ,  1.80828877,  1.7837273 ,  0.64185389,  0.69813472,\n",
        "         2.39789527, -0.35667494,  1.79175947,  1.90210753,  1.39624469,\n",
        "         1.84054963,  2.19722458,  1.89761986,  1.84054963,  0.74193734,\n",
        "         0.55961579,  1.79175947,  0.91629073,  2.17475172,  1.36097655])\n",
        "\n",
        "N = 30"
      ],
      "metadata": {
        "id": "P5F22qjljNJ1"
      },
      "execution_count": 55,
      "outputs": []
    },
    {
      "cell_type": "markdown",
      "source": [
        "Regression:\n",
        "\n",
        "Let **Y** be the vector of LogPlanetMass. Then place the remaining variables so that they form columns of **X**. You should also insert an additional column of ones to allow for an intercept, thus you will have six **Beta** parameters.\n",
        "\n",
        "The lay-out of **X** should be, left-to-right: intercept, LogPlanetRadius, LogPlanetOrbit, StarMetallicity, LogStarMass, LogStarAge.\n",
        "\n",
        "Find the estimate of **Beta** using multi linear least squares regression. What is **Beta_hat** to three significant figures in each element? (You can enter the vector as a list of numbers, eg: [0.3, 0.1, 1.4, 4.5, 2.4, 0.7]"
      ],
      "metadata": {
        "id": "h2DU63M_-DEy"
      }
    },
    {
      "cell_type": "code",
      "source": [
        "B0 = np.ones(len(LogStarAge))\n",
        "X = np.column_stack((B0,LogPlanetRadius, LogPlanetOrbit, StarMetallicity, LogStarMass, LogStarAge))\n",
        "Y = LogPlanetMass\n",
        "\n",
        "# Perform multiple linear regression\n",
        "returns = np.linalg.lstsq(X, Y, rcond=None)\n",
        "# Get the parameters\n",
        "params = np.round(returns[0],3)\n",
        "B1 = params[0]\n",
        "B2 = params[1]\n",
        "B3 = params[2]\n",
        "B4 = params[3]\n",
        "B5 = params[4]\n",
        "B0 = params[5]\n",
        "\n",
        "print([B0,B1,B2,B3,B4,B5])\n",
        "print(\"B0 = {}\".format(B0))\n",
        "print(\"B1 = {}\".format(B1))\n",
        "print(\"B2 = {}\".format(B2))\n",
        "print(\"B3 = {}\".format(B3))\n",
        "print(\"B4 = {}\".format(B4))\n",
        "print(\"B5 = {}\".format(B5))\n",
        "\n",
        "# Now calculate the p-values and the 95% confidence interval:\n",
        "\n"
      ],
      "metadata": {
        "colab": {
          "base_uri": "https://localhost:8080/"
        },
        "id": "U5M6z1eA98UV",
        "outputId": "0edb2708-ae73-4cda-adc1-e3451405d483"
      },
      "execution_count": 63,
      "outputs": [
        {
          "output_type": "stream",
          "name": "stdout",
          "text": [
            "[-0.462, 0.154, 1.402, -0.141, -1.6, -0.956]\n",
            "B0 = -0.462\n",
            "B1 = 0.154\n",
            "B2 = 1.402\n",
            "B3 = -0.141\n",
            "B4 = -1.6\n",
            "B5 = -0.956\n"
          ]
        }
      ]
    },
    {
      "cell_type": "code",
      "source": [
        "from sklearn.linear_model import LinearRegression\n",
        "from sklearn.metrics import r2_score\n",
        "from sklearn.metrics import mean_squared_error\n",
        "\n",
        "X = np.column_stack((LogPlanetRadius, LogPlanetOrbit, StarMetallicity, LogStarMass, LogStarAge))\n",
        "Y = LogPlanetMass\n",
        "LR = LinearRegression()\n",
        "LR.fit(X,Y)\n",
        "\n",
        "print(\"coefficient is \",LR.coef_)\n",
        "\n",
        "print(\"intercept is \",LR.intercept_,\"\\n\")\n",
        "\n",
        "y_prediction =  LR.predict(X)\n",
        "score=r2_score(Y,y_prediction)\n",
        "print(\"r2 socre is \",score)\n",
        "print(\"mean_sqrd_error is==\",mean_squared_error(Y,y_prediction))\n",
        "print(\"root_mean_squared error of is==\",np.sqrt(mean_squared_error(Y,y_prediction)))\n",
        "\n",
        "#"
      ],
      "metadata": {
        "colab": {
          "base_uri": "https://localhost:8080/"
        },
        "id": "KOrBmKBaB3eu",
        "outputId": "d0128319-32ac-4a17-dbed-dc45a48b6f34"
      },
      "execution_count": 67,
      "outputs": [
        {
          "output_type": "stream",
          "name": "stdout",
          "text": [
            "coefficient is  [ 1.40214538 -0.14099818 -1.59951364 -0.95610919 -0.46176234]\n",
            "intercept is  0.15379302910641113 \n",
            "\n",
            "r2 socre is  0.6586989465806861\n",
            "mean_sqrd_error is== 0.9678196399565373\n",
            "root_mean_squared error of is== 0.9837782473487291\n"
          ]
        }
      ]
    },
    {
      "cell_type": "code",
      "source": [
        "# another method\n",
        "Ys = LogPlanetMass\n",
        "# Concatenate the variables into a matrix, np.ones_like inserts a row of ones into the start of the matrix for the intercept term.\n",
        "# Taking the transpose places each variable as columns.\n",
        "Xmat = np.array((np.ones_like(LogPlanetRadius), LogPlanetRadius, LogPlanetOrbit, StarMetallicity, LogStarMass, LogStarAge)).T\n",
        "import numpy.linalg\n",
        "# The beta estimator using the matrix inversion formula\n",
        "betaVec = numpy.linalg.inv(Xmat.T.dot(Xmat)).dot(Xmat.T).dot(Ys)\n",
        "betaVec\n"
      ],
      "metadata": {
        "colab": {
          "base_uri": "https://localhost:8080/"
        },
        "id": "XBisbyr8-_LY",
        "outputId": "779a7042-698d-4d95-8e6a-d931e1eabdbd"
      },
      "execution_count": 70,
      "outputs": [
        {
          "output_type": "execute_result",
          "data": {
            "text/plain": [
              "array([ 0.15379303,  1.40214538, -0.14099818, -1.59951364, -0.95610919,\n",
              "       -0.46176234])"
            ]
          },
          "metadata": {},
          "execution_count": 70
        }
      ]
    },
    {
      "cell_type": "markdown",
      "source": [
        "t-test to find the significance of the features. \n",
        "\n",
        "most significant => t-value closer to 1\n",
        "\n",
        "least/ no significant => t-value closer to 0"
      ],
      "metadata": {
        "id": "SqBrCTBfSwy2"
      }
    },
    {
      "cell_type": "code",
      "source": [
        "import statsmodels.api as sm\n",
        "mod = sm.OLS(Ys,X)\n",
        "fii = mod.fit()\n",
        "p_values = fii.summary2()\n",
        "p_values"
      ],
      "metadata": {
        "id": "_WcDkFnkD1av",
        "outputId": "1caadf47-6154-44d7-a71e-90fe326c040b",
        "colab": {
          "base_uri": "https://localhost:8080/",
          "height": 378
        }
      },
      "execution_count": 74,
      "outputs": [
        {
          "output_type": "execute_result",
          "data": {
            "text/plain": [
              "<class 'statsmodels.iolib.summary2.Summary'>\n",
              "\"\"\"\n",
              "                       Results: Ordinary least squares\n",
              "==============================================================================\n",
              "Model:                  OLS              Adj. R-squared (uncentered): 0.622   \n",
              "Dependent Variable:     y                AIC:                         94.1703 \n",
              "Date:                   2023-02-06 01:17 BIC:                         101.1763\n",
              "No. Observations:       30               Log-Likelihood:              -42.085 \n",
              "Df Model:               5                F-statistic:                 10.86   \n",
              "Df Residuals:           25               Prob (F-statistic):          1.24e-05\n",
              "R-squared (uncentered): 0.685            Scale:                       1.1620  \n",
              "-----------------------------------------------------------------------------------\n",
              "             Coef.       Std.Err.         t         P>|t|        [0.025      0.975]\n",
              "-----------------------------------------------------------------------------------\n",
              "x1           1.3915        0.2645       5.2612      0.0000       0.8468      1.9362\n",
              "x2          -0.1776        0.1393      -1.2747      0.2141      -0.4645      0.1094\n",
              "x3          -1.6072        1.2237      -1.3134      0.2010      -4.1275      0.9130\n",
              "x4          -0.8998        0.9748      -0.9231      0.3648      -2.9074      1.1077\n",
              "x5          -0.4344        0.2720      -1.5968      0.1229      -0.9947      0.1259\n",
              "------------------------------------------------------------------------------\n",
              "Omnibus:                   12.365           Durbin-Watson:              2.250 \n",
              "Prob(Omnibus):             0.002            Jarque-Bera (JB):           11.714\n",
              "Skew:                      1.274            Prob(JB):                   0.003 \n",
              "Kurtosis:                  4.697            Condition No.:              20    \n",
              "==============================================================================\n",
              "\n",
              "\"\"\""
            ],
            "text/html": [
              "<table class=\"simpletable\">\n",
              "<tr>\n",
              "          <td>Model:</td>                 <td>OLS</td>       <td>Adj. R-squared (uncentered):</td>   <td>0.622</td> \n",
              "</tr>\n",
              "<tr>\n",
              "    <td>Dependent Variable:</td>           <td>y</td>                    <td>AIC:</td>              <td>94.1703</td>\n",
              "</tr>\n",
              "<tr>\n",
              "           <td>Date:</td>          <td>2023-02-06 01:17</td>             <td>BIC:</td>             <td>101.1763</td>\n",
              "</tr>\n",
              "<tr>\n",
              "     <td>No. Observations:</td>           <td>30</td>               <td>Log-Likelihood:</td>        <td>-42.085</td>\n",
              "</tr>\n",
              "<tr>\n",
              "         <td>Df Model:</td>                <td>5</td>                <td>F-statistic:</td>           <td>10.86</td> \n",
              "</tr>\n",
              "<tr>\n",
              "       <td>Df Residuals:</td>             <td>25</td>             <td>Prob (F-statistic):</td>     <td>1.24e-05</td>\n",
              "</tr>\n",
              "<tr>\n",
              "  <td>R-squared (uncentered):</td>       <td>0.685</td>                 <td>Scale:</td>             <td>1.1620</td> \n",
              "</tr>\n",
              "</table>\n",
              "<table class=\"simpletable\">\n",
              "<tr>\n",
              "   <td></td>   <th>Coef.</th>  <th>Std.Err.</th>    <th>t</th>     <th>P>|t|</th> <th>[0.025</th>  <th>0.975]</th>\n",
              "</tr>\n",
              "<tr>\n",
              "  <th>x1</th> <td>1.3915</td>   <td>0.2645</td>  <td>5.2612</td>  <td>0.0000</td> <td>0.8468</td>  <td>1.9362</td>\n",
              "</tr>\n",
              "<tr>\n",
              "  <th>x2</th> <td>-0.1776</td>  <td>0.1393</td>  <td>-1.2747</td> <td>0.2141</td> <td>-0.4645</td> <td>0.1094</td>\n",
              "</tr>\n",
              "<tr>\n",
              "  <th>x3</th> <td>-1.6072</td>  <td>1.2237</td>  <td>-1.3134</td> <td>0.2010</td> <td>-4.1275</td> <td>0.9130</td>\n",
              "</tr>\n",
              "<tr>\n",
              "  <th>x4</th> <td>-0.8998</td>  <td>0.9748</td>  <td>-0.9231</td> <td>0.3648</td> <td>-2.9074</td> <td>1.1077</td>\n",
              "</tr>\n",
              "<tr>\n",
              "  <th>x5</th> <td>-0.4344</td>  <td>0.2720</td>  <td>-1.5968</td> <td>0.1229</td> <td>-0.9947</td> <td>0.1259</td>\n",
              "</tr>\n",
              "</table>\n",
              "<table class=\"simpletable\">\n",
              "<tr>\n",
              "     <td>Omnibus:</td>    <td>12.365</td>  <td>Durbin-Watson:</td>    <td>2.250</td>\n",
              "</tr>\n",
              "<tr>\n",
              "  <td>Prob(Omnibus):</td>  <td>0.002</td> <td>Jarque-Bera (JB):</td> <td>11.714</td>\n",
              "</tr>\n",
              "<tr>\n",
              "       <td>Skew:</td>      <td>1.274</td>     <td>Prob(JB):</td>      <td>0.003</td>\n",
              "</tr>\n",
              "<tr>\n",
              "     <td>Kurtosis:</td>    <td>4.697</td>  <td>Condition No.:</td>     <td>20</td>  \n",
              "</tr>\n",
              "</table>"
            ]
          },
          "metadata": {},
          "execution_count": 74
        }
      ]
    },
    {
      "cell_type": "code",
      "source": [],
      "metadata": {
        "id": "pyE_9oW8S2MB"
      },
      "execution_count": null,
      "outputs": []
    }
  ]
}