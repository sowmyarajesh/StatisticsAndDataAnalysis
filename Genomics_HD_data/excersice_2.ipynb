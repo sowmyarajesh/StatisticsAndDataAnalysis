{
 "cells": [
  {
   "cell_type": "markdown",
   "metadata": {},
   "source": [
    "Excersice 6"
   ]
  },
  {
   "cell_type": "code",
   "execution_count": 1,
   "metadata": {},
   "outputs": [
    {
     "name": "stdout",
     "output_type": "stream",
     "text": [
      "[[1 1 1]\n",
      " [1 1 1]\n",
      " [1 1 1]]\n"
     ]
    }
   ],
   "source": [
    "import numpy as np\n",
    "x = [[1],[1],[1]]\n",
    "xt = np.transpose(x)\n",
    "print(np.matmul(x,xt))"
   ]
  },
  {
   "cell_type": "markdown",
   "metadata": {},
   "source": [
    "Excersice 7"
   ]
  },
  {
   "cell_type": "code",
   "execution_count": 2,
   "metadata": {},
   "outputs": [
    {
     "data": {
      "text/plain": [
       "(array([[ 0.33333333],\n",
       "        [-0.66666667],\n",
       "        [ 0.33333333]]),\n",
       " array([[ 0.33333333],\n",
       "        [-0.66666667],\n",
       "        [ 0.33333333]]))"
      ]
     },
     "execution_count": 2,
     "metadata": {},
     "output_type": "execute_result"
    }
   ],
   "source": [
    "import numpy as np\n",
    "i = [[1,0,0],[0,1,0],[0,0,1]]\n",
    "o = [[1],[1],[1]]\n",
    "ot = np.transpose(o)\n",
    "x= [[2],[1],[2]]\n",
    "s1 = np.matmul(o,ot)\n",
    "s2 = np.dot(1/3,s1)\n",
    "h = np.subtract(i,s2)\n",
    "hx = np.matmul(h,x)\n",
    "h2 = np.matmul(h,h)\n",
    "h3 = np.matmul(h2,h)\n",
    "h2x = np.matmul(h3,x)\n",
    "hx, h2x"
   ]
  },
  {
   "cell_type": "code",
   "execution_count": 50,
   "metadata": {},
   "outputs": [
    {
     "name": "stdout",
     "output_type": "stream",
     "text": [
      "[1. 2.]\n",
      "[2.2 4.4]\n",
      "[-0.2 -0.4]\n"
     ]
    },
    {
     "data": {
      "text/plain": [
       "4.8"
      ]
     },
     "execution_count": 50,
     "metadata": {},
     "output_type": "execute_result"
    }
   ],
   "source": [
    "import numpy as np\n",
    "\n",
    "u = np.dot(1/np.sqrt(5),np.transpose([1,2]))\n",
    "\n",
    "x1 = np.transpose([1,2])\n",
    "ux1 = np.matmul(u,x1)\n",
    "p1 = np.dot(ux1,u)\n",
    "print(p1)\n",
    "\n",
    "\n",
    "x2 = np.transpose([3,4])\n",
    "ux2 = np.matmul(u,x2)\n",
    "p2 = np.dot(np.matmul(u,x2),u)\n",
    "print(p2)\n",
    "\n",
    "\n",
    "x3 = np.transpose([-1,0])\n",
    "ux3 = np.matmul(u,x3)\n",
    "p3 = np.dot(np.matmul(u,x3),u)\n",
    "print(p3)\n",
    "\n",
    "# emperical variance\n",
    "emp_var = np.var([ux1,ux2,ux3])\n",
    "# print(emp_var)\n",
    "\n",
    "# compute s\n",
    "X = [np.transpose(x1),np.transpose(x2),np.transpose(x3)]\n",
    "emp_cov = np.cov(X)\n",
    "# print(emp_cov)\n",
    "s = np.matmul(np.dot(1/3,np.transpose(X)),np.matmul(h,X))\n",
    "np.matmul(np.transpose(u), np.matmul(s,u))\n",
    "# s\n"
   ]
  },
  {
   "cell_type": "code",
   "execution_count": 10,
   "metadata": {},
   "outputs": [
    {
     "data": {
      "text/plain": [
       "(0.25, 0.0)"
      ]
     },
     "execution_count": 10,
     "metadata": {},
     "output_type": "execute_result"
    }
   ],
   "source": [
    "u = [1,0]\n",
    "# np.matmul(np.transpose(u),u)\n",
    "np.var(u), np.var(np.matmul(u,u))"
   ]
  },
  {
   "cell_type": "code",
   "execution_count": 16,
   "metadata": {},
   "outputs": [
    {
     "data": {
      "text/plain": [
       "array([[2, 0],\n",
       "       [0, 2]])"
      ]
     },
     "execution_count": 16,
     "metadata": {},
     "output_type": "execute_result"
    }
   ],
   "source": [
    "i = [[1,0],[0,1]]\n",
    "v = [[2,0],[0,2]]\n",
    "vi = np.linalg.inv(v)\n",
    "# np.dot(2,v)\n",
    "np.matmul(i,v)"
   ]
  },
  {
   "cell_type": "markdown",
   "metadata": {},
   "source": [
    "Excersice 9"
   ]
  },
  {
   "cell_type": "code",
   "execution_count": 26,
   "metadata": {},
   "outputs": [],
   "source": [
    "def IdentityMatrix(n):\n",
    "    i_mat = []\n",
    "    for r in range(n):\n",
    "        row = []\n",
    "        for c in range(n):\n",
    "            if r==c:\n",
    "                row.append(1)\n",
    "            else:\n",
    "                row.append(0)\n",
    "        i_mat.append(row)\n",
    "    return i_mat\n",
    "\n"
   ]
  },
  {
   "cell_type": "code",
   "execution_count": 56,
   "metadata": {},
   "outputs": [
    {
     "data": {
      "text/plain": [
       "(array([[1, 0],\n",
       "        [0, 1]]),\n",
       " array([[1., 0.],\n",
       "        [0., 1.]]))"
      ]
     },
     "execution_count": 56,
     "metadata": {},
     "output_type": "execute_result"
    }
   ],
   "source": [
    "n = 2\n",
    "i = IdentityMatrix(n)\n",
    "x = np.ones(n)\n",
    "xt = np.transpose(x)\n",
    "xxt = np.matmul(x,xt)\n",
    "H = np.subtract(i,1)\n",
    "np.matmul(H,H), np.matmul(np.linalg.inv(H),H)"
   ]
  },
  {
   "cell_type": "code",
   "execution_count": null,
   "metadata": {},
   "outputs": [],
   "source": [
    "x1 = [0,1]\n",
    "x2 = [0,-1]\n",
    "S  = (1/2)* "
   ]
  },
  {
   "cell_type": "code",
   "execution_count": 66,
   "metadata": {},
   "outputs": [
    {
     "name": "stdout",
     "output_type": "stream",
     "text": [
      "sample covariance\n",
      " [[ 0.5 -0.5]\n",
      " [-0.5  0.5]]\n",
      "Eigen vector = \n",
      " [[ 1.         -0.70710678]\n",
      " [ 0.          0.70710678]]\n",
      "Eigen value =  [ 0. -1.]\n",
      "Eigen vector corresponding to w1 = \n",
      " [1. 0.]\n",
      "Eigen vector corresponding to w2 = \n",
      " [-0.70710678  0.70710678]\n"
     ]
    }
   ],
   "source": [
    "# Applying PCA function on training\n",
    "# and testing set of X component\n",
    "from sklearn.decomposition import PCA\n",
    "  \n",
    "pca = PCA(n_components = 2)\n",
    "X = [[0,1],[0,-1]]\n",
    "X_train = pca.fit_transform(X)\n",
    "\n",
    "  \n",
    "explained_variance = pca.explained_variance_ratio_\n",
    "\n",
    "# print(\"PCA1 = \",explained_variance)\n",
    "print(\"sample covariance\\n\", np.cov(X))\n",
    "w,v = np.linalg.eig(X)\n",
    "print(\"Eigen vector = \\n\",v)\n",
    "print(\"Eigen value = \", w)\n",
    "print\n",
    "print(\"Eigen vector corresponding to w1 = \\n\",v[:,0])\n",
    "print(\"Eigen vector corresponding to w2 = \\n\",v[:,1])"
   ]
  },
  {
   "cell_type": "code",
   "execution_count": 22,
   "metadata": {},
   "outputs": [
    {
     "name": "stdout",
     "output_type": "stream",
     "text": [
      "[[ 0.70710678  0.70710678]\n",
      " [ 0.70710678 -0.70710678]]\n",
      "[[1.5 0.5]\n",
      " [0.5 1.5]]\n"
     ]
    },
    {
     "data": {
      "text/plain": [
       "array([[1, 0],\n",
       "       [0, 1]])"
      ]
     },
     "execution_count": 22,
     "metadata": {},
     "output_type": "execute_result"
    }
   ],
   "source": [
    "import numpy as np\n",
    "p= [[1,1],[1,-1]]\n",
    "x = np.dot(1/np.sqrt(2),p)\n",
    "print(x)\n",
    "s = np.dot(np.dot(x,[[2,0],[0,1]]),x)\n",
    "i =[[1,0],[0,1]]\n",
    "s2 = [[-1,0],[0,-1]]\n",
    "print(s)\n",
    "np.matmul(np.matmul(np.transpose(s2),s2),i)"
   ]
  },
  {
   "cell_type": "code",
   "execution_count": null,
   "metadata": {},
   "outputs": [],
   "source": []
  }
 ],
 "metadata": {
  "kernelspec": {
   "display_name": "Python 3.10.4 ('LD')",
   "language": "python",
   "name": "python3"
  },
  "language_info": {
   "codemirror_mode": {
    "name": "ipython",
    "version": 3
   },
   "file_extension": ".py",
   "mimetype": "text/x-python",
   "name": "python",
   "nbconvert_exporter": "python",
   "pygments_lexer": "ipython3",
   "version": "3.10.4"
  },
  "orig_nbformat": 4,
  "vscode": {
   "interpreter": {
    "hash": "31c4a5216d1b70edb8ccadb0033ed466ad602c2eadb1aba86d4896a8d7ddf022"
   }
  }
 },
 "nbformat": 4,
 "nbformat_minor": 2
}
