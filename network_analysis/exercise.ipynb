{
 "cells": [
  {
   "cell_type": "markdown",
   "metadata": {},
   "source": [
    "Adjacency matrix\n",
    "\n",
    "A[i,j] = 1 if there is connection between edges i and j. Otherwise, it is 0.\n",
    "\n"
   ]
  },
  {
   "cell_type": "code",
   "execution_count": null,
   "metadata": {},
   "outputs": [],
   "source": [
    "import numpy as np\n",
    "A = [\n",
    "    [0,0,1,0],\n",
    "    [0,0,1,0],\n",
    "    [1,1,0,1],\n",
    "    [0,0,1,0]]\n",
    "A_sqr = np.dot(A,A)\n",
    "A_sqr"
   ]
  },
  {
   "cell_type": "code",
   "execution_count": null,
   "metadata": {},
   "outputs": [],
   "source": [
    "import numpy as np\n",
    "aj = [\n",
    "\t[0, 1, 0, 1, 0, 1, 0, 0, 0, 0],\n",
    "\t[1, 0, 1, 1, 1, 0, 0, 0, 0, 0],\n",
    "\t[0, 1, 0, 0, 0, 0, 0, 0, 0, 0],\n",
    "\t[1, 1, 0, 0, 0, 1, 0, 1, 1, 0],\n",
    "\t[0, 1, 0, 0, 0, 0, 0, 0, 1, 1],\n",
    "\t[1, 0, 0, 1, 0, 0, 0, 0, 0, 0],\n",
    "\t[0, 0, 0, 0, 0, 0, 0, 0, 0, 1],\n",
    "\t[0, 0, 0, 1, 0, 0, 0, 0, 0, 0],\n",
    "\t[0, 0, 0, 1, 1, 0, 0, 0, 0, 1],\n",
    "\t[0, 0, 0, 0, 1, 0, 1, 0, 1, 0]]\n"
   ]
  },
  {
   "cell_type": "markdown",
   "metadata": {},
   "source": [
    "## Problem 1: Suggesting Similar Papers"
   ]
  },
  {
   "cell_type": "code",
   "execution_count": 10,
   "metadata": {},
   "outputs": [],
   "source": [
    "import numpy as np\n",
    "import time\n",
    "\n",
    "def getC(A):\n",
    "    dim = A.shape\n",
    "    C = np.zeros(dim)\n",
    "    for r in A:\n",
    "        if np.sum(r)>1:\n",
    "            for a in range(len(r)):\n",
    "                for b in range(len(r)):\n",
    "                    if a==1 and b==1:\n",
    "                        C[a][b]=1\n",
    "    return C\n",
    "                    \n",
    "for n in [10,100,1000]:\n",
    "    print(\"n={}\".format(n))\n",
    "    A = np.random.choice([0,1],n*n, p = [0.8,0.2])\n",
    "    A = np.reshape(A,[n,n])\n"
   ]
  },
  {
   "cell_type": "code",
   "execution_count": 11,
   "metadata": {},
   "outputs": [
    {
     "name": "stdout",
     "output_type": "stream",
     "text": [
      "Time to complete the Friend's algorithm =  -0.0012998580932617188\n",
      "Time to complete the matrix algorithm =  0.0\n"
     ]
    }
   ],
   "source": [
    "\n",
    "start = time.time()\n",
    "getC(A)\n",
    "end = time.time()\n",
    "print(\"Time to complete the Friend's algorithm = \", (start-end))\n",
    "start = time.time()\n",
    "C = A@A.T\n",
    "end = time.time()\n",
    "print(\"Time to complete the matrix algorithm = \", (start-end))"
   ]
  },
  {
   "cell_type": "code",
   "execution_count": null,
   "metadata": {},
   "outputs": [],
   "source": []
  },
  {
   "cell_type": "code",
   "execution_count": null,
   "metadata": {},
   "outputs": [],
   "source": []
  }
 ],
 "metadata": {
  "kernelspec": {
   "display_name": "Python 3.8.16 ('mitx')",
   "language": "python",
   "name": "python3"
  },
  "language_info": {
   "codemirror_mode": {
    "name": "ipython",
    "version": 3
   },
   "file_extension": ".py",
   "mimetype": "text/x-python",
   "name": "python",
   "nbconvert_exporter": "python",
   "pygments_lexer": "ipython3",
   "version": "3.8.16"
  },
  "orig_nbformat": 4,
  "vscode": {
   "interpreter": {
    "hash": "be4cf647e822bd8704ca03d191902b0b63cac5adcb88b77eb022afc2b53edeb8"
   }
  }
 },
 "nbformat": 4,
 "nbformat_minor": 2
}
