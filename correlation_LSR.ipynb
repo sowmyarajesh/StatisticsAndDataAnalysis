{
  "nbformat": 4,
  "nbformat_minor": 0,
  "metadata": {
    "colab": {
      "provenance": [],
      "authorship_tag": "ABX9TyNO4cDCsvHq7mEjHRd8eSpp",
      "include_colab_link": true
    },
    "kernelspec": {
      "name": "python3",
      "display_name": "Python 3"
    },
    "language_info": {
      "name": "python"
    }
  },
  "cells": [
    {
      "cell_type": "markdown",
      "metadata": {
        "id": "view-in-github",
        "colab_type": "text"
      },
      "source": [
        "<a href=\"https://colab.research.google.com/github/sowmyarajesh/StatisticsAndDataScience/blob/main/correlation_LSR.ipynb\" target=\"_parent\"><img src=\"https://colab.research.google.com/assets/colab-badge.svg\" alt=\"Open In Colab\"/></a>"
      ]
    },
    {
      "cell_type": "code",
      "execution_count": 1,
      "metadata": {
        "id": "HkvWtDgXUshi"
      },
      "outputs": [],
      "source": [
        "import numpy as np\n",
        "import scipy.stats as stats\n",
        "import matplotlib.pyplot as plt \n"
      ]
    },
    {
      "cell_type": "code",
      "source": [
        "Xs = np.array([0.0339, 0.0423, 0.213, 0.257, 0.273, 0.273, 0.450, 0.503, 0.503, \\\n",
        "0.637, 0.805, 0.904, 0.904, 0.910, 0.910, 1.02, 1.11, 1.11, 1.41, \\\n",
        "1.72, 2.03, 2.02, 2.02, 2.02])\n",
        "\n",
        "Ys = np.array([-19.3, 30.4, 38.7, 5.52, -33.1, -77.3, 398.0, 406.0, 436.0, 320.0, 373.0, \\\n",
        "93.9, 210.0, 423.0, 594.0, 829.0, 718.0, 561.0, 608.0, 1.04E3, 1.10E3, \\\n",
        "840.0, 801.0, 519.0])\n",
        "\n",
        "N = 24"
      ],
      "metadata": {
        "id": "Sbrh9mcYZWOb"
      },
      "execution_count": 7,
      "outputs": []
    },
    {
      "cell_type": "code",
      "source": [
        "# Calculate the sample mean of the Xs and Ys\n",
        "Xs_mean = np.mean(Xs)\n",
        "Ys_mean = np.mean(Ys)\n",
        "Xs_mean, Ys_mean"
      ],
      "metadata": {
        "colab": {
          "base_uri": "https://localhost:8080/"
        },
        "id": "wTd6aLjWZX75",
        "outputId": "795e5797-dc23-4cc4-e7cf-0eb677541c03"
      },
      "execution_count": 8,
      "outputs": [
        {
          "output_type": "execute_result",
          "data": {
            "text/plain": [
              "(0.9199250000000001, 425.6175)"
            ]
          },
          "metadata": {},
          "execution_count": 8
        }
      ]
    },
    {
      "cell_type": "code",
      "source": [
        "# Calculate the standard deviation\n",
        "Sx = np.std(Xs, ddof=1)\n",
        "Sy = np.std(Ys, ddof=1)\n",
        "np.round(Sx,3),np.round(Sy,3)"
      ],
      "metadata": {
        "colab": {
          "base_uri": "https://localhost:8080/"
        },
        "id": "qLmRZAPKZyvf",
        "outputId": "1798f5c7-31bb-4cbd-dbd7-6547d1802b95"
      },
      "execution_count": 19,
      "outputs": [
        {
          "output_type": "execute_result",
          "data": {
            "text/plain": [
              "(0.653, 348.734)"
            ]
          },
          "metadata": {},
          "execution_count": 19
        }
      ]
    },
    {
      "cell_type": "code",
      "source": [
        "# calculate the covariance\n",
        "Sx2 = np.round(np.var(Xs, ddof=1))\n",
        "Sy2 = np.round(np.var(Ys, ddof=1))\n",
        "SxSy = Sx*Sy\n",
        "Sx2Sy2 = Sx2*Sy2\n",
        "\n",
        "print('\\nSx2 = ',Sx2,'\\nSy2 = ', Sy2,'\\nSxSy = ',SxSy,'\\nSx2Sy2 = ',Sx2Sy2)\n",
        "cov_matrix = np.round(np.cov(Xs,Ys),3)\n",
        "np.max(cov_matrix)"
      ],
      "metadata": {
        "id": "Ii2pUa43wEy6",
        "outputId": "f61f9674-c73a-403d-fad3-58b801dd3fa5",
        "colab": {
          "base_uri": "https://localhost:8080/"
        }
      },
      "execution_count": 24,
      "outputs": [
        {
          "output_type": "stream",
          "name": "stdout",
          "text": [
            "\n",
            "Sx2 =  0.0 \n",
            "Sy2 =  121615.0 \n",
            "SxSy =  227.8607674169533 \n",
            "Sx2Sy2 =  0.0\n"
          ]
        },
        {
          "output_type": "execute_result",
          "data": {
            "text/plain": [
              "121615.164"
            ]
          },
          "metadata": {},
          "execution_count": 24
        }
      ]
    },
    {
      "cell_type": "code",
      "source": [],
      "metadata": {
        "id": "6ENMkQ0NZ-S9"
      },
      "execution_count": null,
      "outputs": []
    },
    {
      "cell_type": "code",
      "source": [
        "\n",
        "plt.scatter(Xs, Ys) # Create the scatter plot, Xs and Ys are two numpy arrays of the same length\n",
        "plt.show()\n",
        "\n",
        "plt.plot(Xs, Ys)"
      ],
      "metadata": {
        "colab": {
          "base_uri": "https://localhost:8080/",
          "height": 531
        },
        "id": "4SyqSdrlVYG6",
        "outputId": "86c80750-cc1a-4076-a9fc-2de36a7e1268"
      },
      "execution_count": 6,
      "outputs": [
        {
          "output_type": "display_data",
          "data": {
            "text/plain": [
              "<Figure size 432x288 with 1 Axes>"
            ],
            "image/png": "[encoded data removed]"
          },
          "metadata": {
            "needs_background": "light"
          }
        },
        {
          "output_type": "execute_result",
          "data": {
            "text/plain": [
              "[<matplotlib.lines.Line2D at 0x7f2d2c89e610>]"
            ]
          },
          "metadata": {},
          "execution_count": 6
        },
        {
          "output_type": "display_data",
          "data": {
            "text/plain": [
              "<Figure size 432x288 with 1 Axes>"
            ],
            "image/png": "[encoded data removed]"
          },
          "metadata": {
            "needs_background": "light"
          }
        }
      ]
    },
    {
      "cell_type": "code",
      "source": [
        "import numpy as np\n",
        "# np.linalg.inv(matrix_to_invert)"
      ],
      "metadata": {
        "id": "945iAI3mVgth"
      },
      "execution_count": 4,
      "outputs": []
    },
    {
      "cell_type": "code",
      "source": [
        "import scipy.stats\n",
        "# scipy.stats.t.sf(T, num_degrees_of_freedom)"
      ],
      "metadata": {
        "id": "ZI8su9EmV119"
      },
      "execution_count": 5,
      "outputs": []
    },
    {
      "cell_type": "code",
      "source": [],
      "metadata": {
        "id": "JIMrPN0AV2wX"
      },
      "execution_count": null,
      "outputs": []
    }
  ]
}