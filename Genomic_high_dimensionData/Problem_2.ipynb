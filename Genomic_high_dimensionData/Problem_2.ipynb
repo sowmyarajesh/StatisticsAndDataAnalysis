{
 "cells": [
  {
   "cell_type": "code",
   "execution_count": null,
   "metadata": {},
   "outputs": [],
   "source": [
    "import warnings\n",
    "warnings.filterwarnings(\"ignore\", category=DeprecationWarning)  # will not show deprecation warning\n",
    "def warn(*args, **kwargs):\n",
    "    pass\n",
    "warnings.warn = warn  # avoid other warnings\n",
    "\n",
    "import numpy as np\n",
    "import pandas as pd\n",
    "import matplotlib.pyplot as plt\n",
    "\n",
    "\n",
    "from sklearn.decomposition import PCA\n",
    "from sklearn.manifold import MDS\n",
    "from sklearn.manifold import TSNE\n",
    "from sklearn.cluster import KMeans\n",
    "\n",
    "X = np.load(\"data\\p2_unsupervised\\X.npy\")\n",
    "print(X.shape)"
   ]
  },
  {
   "cell_type": "markdown",
   "metadata": {},
   "source": [
    "# Part 1: Visualization\n",
    "\n",
    "A scientist tells you that cells in the brain are either excitatory neurons, inhibitory neurons, or non-neuronal cells. Cells from each of these three groups serve different functions within the brain. Within each of these three types, there are numerous distinct sub-types that a cell can be, and sub-types of the same larger class can serve similar functions. Your goal is to produce visualizations which show how the scientist's knowledge reflects in the data.\n",
    "\n",
    "As in Problem 1, we recommend using PCA before running T-SNE or clustering algorithms, for quality and computational reasons."
   ]
  },
  {
   "cell_type": "markdown",
   "metadata": {},
   "source": [
    "### (3 points) Provide at least one visualization which clearly shows the existence of three main brain cell types as described by the scientist, and explain how it shows this. Your visualization should support the idea that cells from different groups can differ greatly."
   ]
  },
  {
   "cell_type": "markdown",
   "metadata": {},
   "source": [
    "**Log Transformation**\n",
    "\n",
    "  Due to the presence of high magnitude of data in only few cells in the genes, it is good to apply log transform to the data."
   ]
  },
  {
   "cell_type": "code",
   "execution_count": null,
   "metadata": {},
   "outputs": [],
   "source": [
    "Xlog = np.log2(X+1)\n",
    "print(Xlog.shape)"
   ]
  },
  {
   "cell_type": "markdown",
   "metadata": {},
   "source": [
    "Before getting to visualization, lets run a quick analysis on the data."
   ]
  },
  {
   "cell_type": "code",
   "execution_count": null,
   "metadata": {},
   "outputs": [],
   "source": [
    "df = pd.DataFrame(Xlog)\n",
    "df[0].describe()"
   ]
  },
  {
   "cell_type": "markdown",
   "metadata": {},
   "source": [
    "### Principal Component Analysis (PCA)\n",
    "\n",
    "Principal component analysis is one of the techniques used to analyze data with high dimensions.  It is often used to find a low dimensional representation of the data that maximizes the spread of the projected data. "
   ]
  },
  {
   "cell_type": "code",
   "execution_count": null,
   "metadata": {},
   "outputs": [],
   "source": [
    "pca = PCA()\n",
    "pca_comps = pca.fit_transform(Xlog)\n",
    "\n",
    "# variance explained\n",
    "variances = pca.explained_variance_ratio_\n",
    "print(\"Varianced explained by 1st component = {}\".format(variances[0]))\n"
   ]
  },
  {
   "cell_type": "code",
   "execution_count": null,
   "metadata": {},
   "outputs": [],
   "source": [
    "labels = [\"excitatory neurons\", \"inhibitory neurons\", \"non-neuronal cells\"]\n",
    "# visualize the PCA1 Vs PCA2\n",
    "plt.scatter(pca_comps[0],pca_comps[1])\n",
    "plt.title(\"Scatter plot of 1st and 2nd PCs\",size=18)\n",
    "plt.xlabel(\"PC 1\",size=14)\n",
    "plt.ylabel(\"PC 2\",size=14)\n",
    "plt.axis(\"equal\")\n",
    "plt.show()\n"
   ]
  },
  {
   "cell_type": "code",
   "execution_count": null,
   "metadata": {},
   "outputs": [],
   "source": [
    "\n",
    "# visualize the variances \n",
    "comps = [i+1 for i in range(Xlog.shape[0])]\n",
    "fig,ax=plt.subplots()\n",
    "ax.plot(comps[0:101], variances[0:101])\n",
    "ax.axvline(x=4, color='y',linestyle='--')\n",
    "plt.title(\"% Explained variance by component\",size=18)\n",
    "plt.xlabel(\"Component #\",size=14)\n",
    "plt.ylabel(\"% Variance Explained\",size=14)\n",
    "plt.show()\n"
   ]
  },
  {
   "cell_type": "code",
   "execution_count": null,
   "metadata": {},
   "outputs": [],
   "source": [
    "# calculate the total variability and look for 85% threshold\n",
    "cdf = np.cumsum(variances)\n",
    "fig,ax=plt.subplots()\n",
    "ax.plot(comps,cdf,label=\"cdf\")\n",
    "ax.axhline(y=0.85,color='r',linestyle='dashed')\n",
    "ax.axvline(x=1250, color='r',linestyle='dashed')\n",
    "plt.xlabel(\"Components\")\n",
    "plt.ylabel(\"Variance Explained\")\n",
    "plt.title(\"Variance Explained vs Number of Componenet  Data\")\n",
    "plt.show()"
   ]
  },
  {
   "cell_type": "markdown",
   "metadata": {},
   "source": [
    "Based on the above diagram, we can infer that 85% variance can be explained by 1250 components. Hence lets only consider the 1250 components of PCA"
   ]
  },
  {
   "cell_type": "code",
   "execution_count": null,
   "metadata": {},
   "outputs": [],
   "source": [
    "\n",
    "transfrm_pca = pca.transform(Xlog)[:,:1250]\n",
    "kmeans = KMeans(n_clusters=3, random_state=0).fit(transfrm_pca[:,:1250])\n",
    "plt.scatter(transfrm_pca[:,0],transfrm_pca[:,1])\n",
    "\n",
    "plt.show()"
   ]
  },
  {
   "cell_type": "markdown",
   "metadata": {},
   "source": [
    "## T-SNE"
   ]
  },
  {
   "cell_type": "code",
   "execution_count": null,
   "metadata": {},
   "outputs": [],
   "source": [
    "tsne = TSNE()\n",
    "tsne_trns = tsne.fit_transform(transfrm_pca)\n",
    "\n",
    "plt.title(\"T-SNE with PCA init\")\n",
    "plt.scatter(tsne_trns[:,0],tsne_trns[:,1])\n",
    "plt.show()\n"
   ]
  },
  {
   "cell_type": "code",
   "execution_count": null,
   "metadata": {},
   "outputs": [],
   "source": [
    "# TSNE  with PCA initialization\n",
    "tsne_50 = TSNE(init='pca', perplexity=50)\n",
    "tsne_15 = TSNE(init='pca', perplexity=15)\n",
    "tsne_5 = TSNE(init='pca', perplexity=5)\n",
    "tsne_trns_50 = tsne_50.fit_transform(transfrm_pca)\n",
    "tsne_trns_15 = tsne_15.fit_transform(transfrm_pca)\n",
    "tsne_trns_5 = tsne_5.fit_transform(transfrm_pca)\n",
    "\n",
    "\n",
    "# plt.rcParams[\"figure.figsize\"] = (15,15) \n",
    "\n",
    "# plt.subplot(1,3,1)\n",
    "plt.scatter(tsne_trns_50[:,0],tsne_trns_50[:,1])\n",
    "plt.title(\"T-SNE with PCA init, perplexity=50\")\n",
    "# plt.grid()\n",
    "plt.show()\n",
    "\n",
    "# plt.subplot(1,3,2)\n",
    "plt.scatter(tsne_trns_15[:,0],tsne_trns_15[:,1])\n",
    "plt.title(\"T-SNE with PCA init, perplexity=15\")\n",
    "# plt.grid()\n",
    "plt.show()\n",
    "\n",
    "# plt.subplot(1,3,3)\n",
    "plt.scatter(tsne_trns_5[:,0],tsne_trns_5[:,1])\n",
    "plt.title(\"T-SNE with PCA init, perplexity=5\")\n",
    "# plt.grid()\n",
    "plt.show()"
   ]
  },
  {
   "cell_type": "code",
   "execution_count": null,
   "metadata": {},
   "outputs": [],
   "source": [
    "# use silhoute score to estimate the number of clusters needed\n",
    "def get_bestCluster(data):\n",
    "    from sklearn.metrics import  silhouette_score\n",
    "    from sklearn.model_selection import ParameterGrid\n",
    "    # candidate values for our number of cluster\n",
    "    parameters = [2, 3, 4, 5, 10, 15, 20, 25, 30, 35, 40]\n",
    "    # instantiating ParameterGrid, pass number of clusters as input\n",
    "    parameter_grid = ParameterGrid({'n_clusters': parameters})\n",
    "    best_score = -1\n",
    "    kmeans_model = KMeans()     # instantiating KMeans model\n",
    "    silhouette_scores = []\n",
    "    # evaluation based on silhouette_score\n",
    "    for p in parameter_grid:\n",
    "        kmeans_model.set_params(**p)    # set current hyper parameter\n",
    "        kmeans_model.fit(data)          # fit model on wine dataset, this will find clusters based on parameter p\n",
    "        ss = silhouette_score(data, kmeans_model.labels_)   # calculate silhouette_score\n",
    "        silhouette_scores += [ss]       # store all the scores\n",
    "        print('Parameter:', p, 'Score', ss)\n",
    "        # check p which has the best score\n",
    "        if ss > best_score:\n",
    "            best_score = ss\n",
    "            best_grid = p\n",
    "    # plotting silhouette score\n",
    "    plt.bar(range(len(silhouette_scores)), list(silhouette_scores), align='center', color='#722f59', width=0.5)\n",
    "    plt.xticks(range(len(silhouette_scores)), list(parameters))\n",
    "    plt.title('Silhouette Score', fontweight='bold')\n",
    "    plt.xlabel('Number of Clusters')\n",
    "    plt.show()\n",
    "    return best_grid"
   ]
  },
  {
   "cell_type": "code",
   "execution_count": null,
   "metadata": {},
   "outputs": [],
   "source": [
    "# Kmeans clusteting using TSNE Transformation. We will set the cluster =3 as there are three main brain cell types\n",
    "get_bestCluster(transfrm_pca )\n",
    "# kmeans = KMeans(n_clusters=3, random_state=0).fit(tsne_trns_50[:,:1250])\n",
    "# ss = silhouette_score(tsne_trns_50, kmeans.labels_)   # calculate silhouette_score\n",
    "# print(ss)\n",
    "# # plt.scatter(tsne_trns_50[:,0], tsne_trns_50[:,1], c=kmeans.labels_)\n",
    "# # plt.title(\"T-SNE with init=PCA, perplexity=50\")"
   ]
  },
  {
   "cell_type": "markdown",
   "metadata": {},
   "source": [
    "### (4 points) Provide at least one visualization which supports the claim that within each of the three types, there are numerous possible sub-types for a cell. In your visualization, highlight which of the three main types these sub-types belong to. Again, explain how your visualization supports the claim."
   ]
  },
  {
   "cell_type": "markdown",
   "metadata": {},
   "source": [
    "For visualizing the cluster hetrogeneity in the data we can use K-mean with MDS (multi-dimensional scaling).First "
   ]
  },
  {
   "cell_type": "code",
   "execution_count": null,
   "metadata": {},
   "outputs": [],
   "source": [
    "embedding = MDS(n_components=2)\n",
    "mds = embedding.fit_transform(Xlog[:,:1250])\n",
    "kmeans = KMeans(n_clusters=3, random_state=0, n_init=10).fit(mds)\n",
    "plt.scatter(mds[:,0],mds[:,1], c=kmeans.labels_)\n",
    "plt.title('MDS')\n",
    "plt.show()"
   ]
  },
  {
   "cell_type": "markdown",
   "metadata": {},
   "source": [
    "After the model has been fitted we need to have the centroids of all the clusters. For this you can use this."
   ]
  },
  {
   "cell_type": "code",
   "execution_count": null,
   "metadata": {},
   "outputs": [],
   "source": [
    "k_means_cluster_centers = kmeans.cluster_centers_"
   ]
  },
  {
   "cell_type": "markdown",
   "metadata": {},
   "source": [
    "Then we need to know to what cluster all the datapoints in X belong to. For this you can use pairwise_distances_argmin this function returns the cluster any set of points have as their closest centroid."
   ]
  },
  {
   "cell_type": "code",
   "execution_count": null,
   "metadata": {},
   "outputs": [],
   "source": [
    "from sklearn.metrics.pairwise import pairwise_distances_argmin, euclidean_distances\n",
    "k_means_labels = pairwise_distances_argmin(mds, k_means_cluster_centers)"
   ]
  },
  {
   "cell_type": "markdown",
   "metadata": {},
   "source": [
    "Then you need to compute the heterogeneity of all the clusters. To do this we need the following for loop and the euclidean_distances function. euclidean_distances calculates the euclidean distance between points."
   ]
  },
  {
   "cell_type": "code",
   "execution_count": null,
   "metadata": {},
   "outputs": [],
   "source": [
    "for i,j in enumerate(set(k_means_labels)):\n",
    "    positions=mds[np.where(k_means_labels == i)]\n",
    "    output=sum(euclidean_distances(positions,k_means_cluster_centers[j].reshape(1,-1)))\n",
    "    print('cluster {} has a  heterogeneity of {}'.format(i,output))"
   ]
  },
  {
   "cell_type": "markdown",
   "metadata": {},
   "source": [
    "In this loop we get all the values of X that belong to a cluster. Calculate the euclidean distance of all points to the centroid of that cluster. Take the sum and print the output."
   ]
  },
  {
   "cell_type": "markdown",
   "metadata": {},
   "source": [
    "### create an heirarchial cluster to get the subtypes in each clusters"
   ]
  },
  {
   "cell_type": "code",
   "execution_count": null,
   "metadata": {},
   "outputs": [],
   "source": [
    "import scipy.cluster.hierarchy as shc\n",
    "\n",
    "plt.figure(figsize=(10, 7))  \n",
    "plt.title(\"Dendrograms\")  \n",
    "dend = shc.dendrogram(shc.linkage(mds, method='ward'))\n",
    "plt.axhline(y=850,color='r',linestyle='dashed')\n",
    "plt.show()"
   ]
  },
  {
   "cell_type": "code",
   "execution_count": null,
   "metadata": {},
   "outputs": [],
   "source": [
    "import scipy.cluster.hierarchy as shc\n",
    "plt.figure(figsize=(10, 7))  \n",
    "plt.title(\"Dendrograms\")  \n",
    "dend = shc.dendrogram(shc.linkage(tsne_trns_50, method='ward'))"
   ]
  },
  {
   "cell_type": "markdown",
   "metadata": {},
   "source": [
    "# Part 2: Unsupervised Feature Selection\n",
    "\n",
    "Now we attempt to find informative genes which can help us differentiate between cells, using only unlabeled data. A genomics researcher would use specialized, domain-specific tools to select these genes. We will instead take a general approach using logistic regression in conjunction with clustering. Briefly speaking, we will use the p2_unsupervised dataset to cluster the data. Treating those cluster labels as ground truth, we will fit a logistic regression model and use its coefficients to select features. Finally, to evaluate the quality of these features, we will fit another logistic regression model on the training set in p2_evaluation, and run it on the test set in the same folder.\n"
   ]
  },
  {
   "cell_type": "code",
   "execution_count": 1,
   "metadata": {},
   "outputs": [],
   "source": [
    "import warnings\n",
    "warnings.filterwarnings(\"ignore\", category=DeprecationWarning)  # will not show deprecation warning\n",
    "def warn(*args, **kwargs):\n",
    "    pass\n",
    "warnings.warn = warn  # avoid other warnings\n",
    "\n",
    "import numpy as np\n",
    "import pandas as pd\n",
    "import matplotlib.pyplot as plt\n",
    "\n",
    "\n",
    "from sklearn.decomposition import PCA\n",
    "from sklearn.manifold import MDS\n",
    "from sklearn.manifold import TSNE\n",
    "from sklearn.cluster import KMeans\n",
    "\n",
    "X = np.load('data/p2_unsupervised_reduced/X.npy')"
   ]
  },
  {
   "cell_type": "code",
   "execution_count": 2,
   "metadata": {},
   "outputs": [
    {
     "data": {
      "text/plain": [
       "18.38035739241839"
      ]
     },
     "execution_count": 2,
     "metadata": {},
     "output_type": "execute_result"
    }
   ],
   "source": [
    "# normalize the training data\n",
    "Xlog  = np.log2(X+1)\n",
    "Xlog.max()"
   ]
  },
  {
   "cell_type": "markdown",
   "metadata": {},
   "source": [
    "\n",
    "**1.\t(4 points) Using your clustering method(s) of choice, find a suitable clustering for the cells. Briefly explain how you chose the number of clusters by appropriate visualizations and/or numerical findings. (To cluster cells into the subcategories instead of categories)**"
   ]
  },
  {
   "cell_type": "markdown",
   "metadata": {},
   "source": [
    "Let us use T-SNE transformation and WGSS for finding the number of possible clusters in the dataset"
   ]
  },
  {
   "cell_type": "code",
   "execution_count": 3,
   "metadata": {},
   "outputs": [
    {
     "data": {
      "text/plain": [
       "[<matplotlib.lines.Line2D at 0x195f9771780>]"
      ]
     },
     "execution_count": 3,
     "metadata": {},
     "output_type": "execute_result"
    },
    {
     "data": {
      "image/png": "[encoded data removed]",
      "text/plain": [
       "<Figure size 640x480 with 1 Axes>"
      ]
     },
     "metadata": {},
     "output_type": "display_data"
    }
   ],
   "source": [
    "tsne = TSNE()\n",
    "tsne_trnf = tsne.fit_transform(Xlog)\n",
    "clusterCounter = [i for i in range(1,6)]\n",
    "WGSS=[]\n",
    "for _c in clusterCounter:    \n",
    "    kmeans = KMeans(n_clusters=_c, random_state=0).fit(tsne_trnf)    \n",
    "    WGSS.append(kmeans.inertia_)\n",
    "plt.plot(clusterCounter, WGSS)"
   ]
  },
  {
   "cell_type": "markdown",
   "metadata": {},
   "source": [
    "It looks like we have 3 cluster that gives best result. we will choose 3 for clustering. Now we will assign psudo label to every data point."
   ]
  },
  {
   "cell_type": "code",
   "execution_count": 4,
   "metadata": {},
   "outputs": [
    {
     "data": {
      "image/png": "[encoded data removed]",
      "text/plain": [
       "<Figure size 640x480 with 1 Axes>"
      ]
     },
     "metadata": {},
     "output_type": "display_data"
    }
   ],
   "source": [
    "kmeans = KMeans(n_clusters=3, random_state=0).fit(tsne_trnf)\n",
    "plt.scatter(tsne_trnf[:,0], tsne_trnf[:,1], c=kmeans.labels_)\n",
    "plt.show()\n"
   ]
  },
  {
   "cell_type": "code",
   "execution_count": 5,
   "metadata": {},
   "outputs": [
    {
     "name": "stdout",
     "output_type": "stream",
     "text": [
      "Train Data shape (1453, 20000) \n",
      "Test Data shape (716, 20000) \n"
     ]
    }
   ],
   "source": [
    "\n",
    "from sklearn.linear_model import LogisticRegression\n",
    "from sklearn.model_selection import train_test_split\n",
    "\n",
    "penalties = ['l1','l2','elasticnet']\n",
    "l1_ratio = [0.1, 0.2,0.3,0.4,0.5,0.6,0.25,0.75,1]\n",
    "Y = kmeans.predict(tsne_trnf)\n",
    "X_train, X_test, y_train, y_test = train_test_split(X, Y, test_size=0.33, random_state=42)\n",
    "print(\"Train Data shape {} \".format(X_train.shape))\n",
    "print(\"Test Data shape {} \".format(X_test.shape))"
   ]
  },
  {
   "cell_type": "code",
   "execution_count": 6,
   "metadata": {},
   "outputs": [
    {
     "name": "stdout",
     "output_type": "stream",
     "text": [
      "0.9986033519553073\n"
     ]
    }
   ],
   "source": [
    "classfier_dict = {} \n",
    "for i in penalties:\n",
    "    if i == 'elasticnet':\n",
    "        for r in l1_ratio:\n",
    "            clf = LogisticRegression(random_state=0, penalty=i,l1_ratio=r, multi_class='ovr', solver='saga', max_iter=200).fit(X_train, y_train)\n",
    "            score = clf.score(X_test,y_test)\n",
    "            if i not in classfier_dict:\n",
    "                classfier_dict[i]=[]\n",
    "            classfier_dict[i].append({'score':score, 'ratio':r, 'model':clf,'penalty':i })\n",
    "        \n",
    "    else:\n",
    "        clf = LogisticRegression(random_state=0, penalty=i, multi_class='ovr' , solver='liblinear', max_iter=200).fit(X_train, y_train)\n",
    "        score = clf.score(X_test,y_test)\n",
    "        if i not in classfier_dict:\n",
    "            classfier_dict[i]=[]\n",
    "        classfier_dict[i].append({'score':score, 'penalty':i, 'model':clf })\n",
    "\n",
    "lr_clf = LogisticRegression(random_state=10, penalty='l1', multi_class='ovr', solver='liblinear').fit(X_train, y_train)\n",
    "score = lr_clf.score(X_test,y_test)\n",
    "print(score)"
   ]
  },
  {
   "cell_type": "code",
   "execution_count": 7,
   "metadata": {},
   "outputs": [
    {
     "data": {
      "text/plain": [
       "{'l1': [{'score': 0.9986033519553073,\n",
       "   'penalty': 'l1',\n",
       "   'model': LogisticRegression(max_iter=200, multi_class='ovr', penalty='l1',\n",
       "                      random_state=0, solver='liblinear')}],\n",
       " 'l2': [{'score': 0.9986033519553073,\n",
       "   'penalty': 'l2',\n",
       "   'model': LogisticRegression(max_iter=200, multi_class='ovr', random_state=0,\n",
       "                      solver='liblinear')}],\n",
       " 'elasticnet': [{'score': 0.9986033519553073,\n",
       "   'ratio': 0.1,\n",
       "   'model': LogisticRegression(l1_ratio=0.1, max_iter=200, multi_class='ovr',\n",
       "                      penalty='elasticnet', random_state=0, solver='saga'),\n",
       "   'penalty': 'elasticnet'},\n",
       "  {'score': 0.9986033519553073,\n",
       "   'ratio': 0.2,\n",
       "   'model': LogisticRegression(l1_ratio=0.2, max_iter=200, multi_class='ovr',\n",
       "                      penalty='elasticnet', random_state=0, solver='saga'),\n",
       "   'penalty': 'elasticnet'},\n",
       "  {'score': 0.9986033519553073,\n",
       "   'ratio': 0.3,\n",
       "   'model': LogisticRegression(l1_ratio=0.3, max_iter=200, multi_class='ovr',\n",
       "                      penalty='elasticnet', random_state=0, solver='saga'),\n",
       "   'penalty': 'elasticnet'},\n",
       "  {'score': 0.9986033519553073,\n",
       "   'ratio': 0.4,\n",
       "   'model': LogisticRegression(l1_ratio=0.4, max_iter=200, multi_class='ovr',\n",
       "                      penalty='elasticnet', random_state=0, solver='saga'),\n",
       "   'penalty': 'elasticnet'},\n",
       "  {'score': 0.9986033519553073,\n",
       "   'ratio': 0.5,\n",
       "   'model': LogisticRegression(l1_ratio=0.5, max_iter=200, multi_class='ovr',\n",
       "                      penalty='elasticnet', random_state=0, solver='saga'),\n",
       "   'penalty': 'elasticnet'},\n",
       "  {'score': 0.9986033519553073,\n",
       "   'ratio': 0.6,\n",
       "   'model': LogisticRegression(l1_ratio=0.6, max_iter=200, multi_class='ovr',\n",
       "                      penalty='elasticnet', random_state=0, solver='saga'),\n",
       "   'penalty': 'elasticnet'},\n",
       "  {'score': 0.9986033519553073,\n",
       "   'ratio': 0.25,\n",
       "   'model': LogisticRegression(l1_ratio=0.25, max_iter=200, multi_class='ovr',\n",
       "                      penalty='elasticnet', random_state=0, solver='saga'),\n",
       "   'penalty': 'elasticnet'},\n",
       "  {'score': 0.9986033519553073,\n",
       "   'ratio': 0.75,\n",
       "   'model': LogisticRegression(l1_ratio=0.75, max_iter=200, multi_class='ovr',\n",
       "                      penalty='elasticnet', random_state=0, solver='saga'),\n",
       "   'penalty': 'elasticnet'},\n",
       "  {'score': 0.9986033519553073,\n",
       "   'ratio': 1,\n",
       "   'model': LogisticRegression(l1_ratio=1, max_iter=200, multi_class='ovr',\n",
       "                      penalty='elasticnet', random_state=0, solver='saga'),\n",
       "   'penalty': 'elasticnet'}]}"
      ]
     },
     "execution_count": 7,
     "metadata": {},
     "output_type": "execute_result"
    }
   ],
   "source": [
    "classfier_dict"
   ]
  },
  {
   "cell_type": "markdown",
   "metadata": {},
   "source": [
    "# top 100 features"
   ]
  },
  {
   "cell_type": "code",
   "execution_count": null,
   "metadata": {},
   "outputs": [],
   "source": [
    "import numpy as np\n",
    "import matplotlib.pyplot as plt\n",
    "\n",
    "X_train = np.load('data/p2_evaluation/X_train.npy')\n",
    "y_train = np.load('data/p2_evaluation/y_train.npy')\n",
    "X_test = np.load('data/p2_evaluation/X_test.npy')\n",
    "y_test = np.load('data/p2_evaluation/y_test.npy')\n",
    "\n",
    "X_train = np.log2(X_train+1)\n",
    "X_test = np.log2(X_test+1)\n",
    "\n",
    "print(X_train.shape, y_train.shape, X_test.shape, y_test.shape)"
   ]
  }
 ],
 "metadata": {
  "kernelspec": {
   "display_name": "Python 3.10.4 ('LD')",
   "language": "python",
   "name": "python3"
  },
  "language_info": {
   "codemirror_mode": {
    "name": "ipython",
    "version": 3
   },
   "file_extension": ".py",
   "mimetype": "text/x-python",
   "name": "python",
   "nbconvert_exporter": "python",
   "pygments_lexer": "ipython3",
   "version": "3.10.4"
  },
  "orig_nbformat": 4,
  "vscode": {
   "interpreter": {
    "hash": "31c4a5216d1b70edb8ccadb0033ed466ad602c2eadb1aba86d4896a8d7ddf022"
   }
  }
 },
 "nbformat": 4,
 "nbformat_minor": 2
}
