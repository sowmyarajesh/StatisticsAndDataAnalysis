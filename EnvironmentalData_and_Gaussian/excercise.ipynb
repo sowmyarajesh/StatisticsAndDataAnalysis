{
 "cells": [
  {
   "cell_type": "markdown",
   "metadata": {},
   "source": [
    "Random variable"
   ]
  },
  {
   "cell_type": "code",
   "execution_count": 2,
   "metadata": {},
   "outputs": [
    {
     "data": {
      "text/plain": [
       "12.25"
      ]
     },
     "execution_count": 2,
     "metadata": {},
     "output_type": "execute_result"
    }
   ],
   "source": [
    "import numpy as np\n",
    "X = np.arange(1,7)\n",
    "Y = X\n",
    "px = 1/6\n",
    "py = 1/6\n",
    "\n",
    "px_sum = 0\n",
    "for i in X:\n",
    "    px_sum = px_sum+(i*px)\n",
    "\n",
    "py_sum = 0\n",
    "for i in Y:\n",
    "    py_sum = py_sum+(i*py)\n",
    "\n",
    "E_xy = px_sum*py_sum\n",
    "E_xy\n"
   ]
  },
  {
   "cell_type": "code",
   "execution_count": 10,
   "metadata": {},
   "outputs": [
    {
     "data": {
      "text/plain": [
       "11.25"
      ]
     },
     "execution_count": 10,
     "metadata": {},
     "output_type": "execute_result"
    }
   ],
   "source": [
    "e_x1_x1_even = (2+4+6)/3\n",
    "e_x2_x1_even = (1+3+5)/3\n",
    "e_x1_x1_odd = (1+3+5)/3\n",
    "e_x2 = (1+2+3+4+5+6)/6\n",
    "\n",
    "e_x1_x2 = ((e_x1_x1_even*e_x2_x1_even)+(e_x1_x1_odd*e_x2))/2\n",
    "e_x1_x2"
   ]
  },
  {
   "cell_type": "code",
   "execution_count": 18,
   "metadata": {},
   "outputs": [
    {
     "data": {
      "text/plain": [
       "array([[ 1.33333333, -1.33333333],\n",
       "       [-1.33333333,  1.33333333]])"
      ]
     },
     "execution_count": 18,
     "metadata": {},
     "output_type": "execute_result"
    }
   ],
   "source": [
    "x0 = 0+1/3+0\n",
    "x1 = 1/3+0+1/3\n",
    "y_1 = 0+1/3\n",
    "y0=1/3+0\n",
    "y1=0+1/3\n",
    "mat = [[0,1/3,0],[1/3,0,1/3]]\n",
    "cov = np.cov(mat)\n",
    "std_x = np.std(mat)\n",
    "std_y = np.std(np.transpose(mat))\n",
    "corr = cov/(std_x*std_y)\n",
    "corr\n"
   ]
  },
  {
   "cell_type": "code",
   "execution_count": null,
   "metadata": {},
   "outputs": [],
   "source": []
  }
 ],
 "metadata": {
  "kernelspec": {
   "display_name": "Python 3.8.16 ('mitx')",
   "language": "python",
   "name": "python3"
  },
  "language_info": {
   "codemirror_mode": {
    "name": "ipython",
    "version": 3
   },
   "file_extension": ".py",
   "mimetype": "text/x-python",
   "name": "python",
   "nbconvert_exporter": "python",
   "pygments_lexer": "ipython3",
   "version": "3.8.16"
  },
  "orig_nbformat": 4,
  "vscode": {
   "interpreter": {
    "hash": "be4cf647e822bd8704ca03d191902b0b63cac5adcb88b77eb022afc2b53edeb8"
   }
  }
 },
 "nbformat": 4,
 "nbformat_minor": 2
}
