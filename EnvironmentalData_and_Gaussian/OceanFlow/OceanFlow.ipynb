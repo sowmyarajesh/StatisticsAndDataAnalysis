{
 "cells": [
  {
   "cell_type": "code",
   "execution_count": 1,
   "metadata": {},
   "outputs": [],
   "source": [
    "import numpy as np\n",
    "import pandas as pd\n",
    "import matplotlib.pyplot as plt\n",
    "from matplotlib import cm\n",
    "import seaborn as sns"
   ]
  },
  {
   "cell_type": "markdown",
   "metadata": {},
   "source": [
    "Get data"
   ]
  },
  {
   "cell_type": "code",
   "execution_count": 42,
   "metadata": {},
   "outputs": [
    {
     "name": "stdout",
     "output_type": "stream",
     "text": [
      "(100, 555, 503) (100, 555, 503) (100, 555, 503, 2)\n"
     ]
    }
   ],
   "source": [
    "horizontal = []\n",
    "vertical = []\n",
    "data_arr = []\n",
    "for i in range(1,101):\n",
    "    h = pd.read_csv(\"OceanFlow/\"+str(i)+'u.csv').to_numpy().T\n",
    "    v = pd.read_csv(\"OceanFlow/\"+str(i)+'v.csv').to_numpy().T\n",
    "    horizontal.append(h)\n",
    "    vertical.append(v)\n",
    "    data_arr.append(np.transpose(np.array([h,v],dtype=np.float32),[1,2,0]))\n",
    "\n",
    "# merge them to 3D time sliced data\n",
    "V = np.stack(vertical)\n",
    "U = np.stack(horizontal)\n",
    "data = np.array(data_arr)\n",
    "\n",
    "mask_file = 'OceanFlow/mask.csv'\n",
    "mask_data = np.loadtxt(mask_file, delimiter=',')\n",
    "\n",
    "grid_space = 3\n",
    "print(V.shape, U.shape, data.shape)"
   ]
  },
  {
   "cell_type": "markdown",
   "metadata": {},
   "source": [
    "Get the coordinates (in Kilometers) of the point with smallest variation in speed flow:\n",
    "\n",
    "- calculate the magnitude for each data point, then compute the variance across time\n",
    "- Some elements do not have meaningful data (all zeros, generally land and the border of the map). Remove any locations with a variance of zero before finding the minimum.\n",
    "- The answer is in kilometers, as specified above, the zero-indexed element (0,0)  corresponds to (0 km, 0 km). The grid spacing is 3 km. Multiply your zero-indexed indices by 3 to get the location in kilometers."
   ]
  },
  {
   "cell_type": "code",
   "execution_count": 3,
   "metadata": {},
   "outputs": [
    {
     "name": "stdout",
     "output_type": "stream",
     "text": [
      "Minimum variance in speed flow is 510 km in X-axis and 363 km in Y-axis\n"
     ]
    }
   ],
   "source": [
    "# speed_flow = magnitude\n",
    "speed_flow = np.sqrt(np.sum([U**2,V**2], axis=0))\n",
    "variance = np.var(speed_flow, axis=0,ddof=0).astype(float)\n",
    "\n",
    "# remove 0 variance\n",
    "variance[variance==0]=np.nan\n",
    "\n",
    "# get the min variance\n",
    "min_var =  np.unravel_index(np.nanargmin(variance, axis=None), variance.shape)\n",
    "min_var_x,min_var_y = np.multiply(min_var,grid_space)\n",
    "# add grid space for the vertical flow. \n",
    "min_var_y = min_var_y+grid_space\n",
    "print(\"Minimum variance in speed flow is {} km in X-axis and {} km in Y-axis\".format(min_var_x,min_var_y))"
   ]
  },
  {
   "cell_type": "code",
   "execution_count": 4,
   "metadata": {},
   "outputs": [
    {
     "name": "stdout",
     "output_type": "stream",
     "text": [
      "Maximum variance in speed flow is 1041 km in X-axis and 543 km in Y-axis\n"
     ]
    }
   ],
   "source": [
    "max_var =  np.unravel_index(np.nanargmax(variance, axis=None), variance.shape)\n",
    "max_var_x,max_var_y = np.multiply(max_var,grid_space)\n",
    "# add grid space for the y-axis. \n",
    "max_var_y = max_var_y+grid_space\n",
    "print(\"Maximum variance in speed flow is {} km in X-axis and {} km in Y-axis\".format(max_var_x,max_var_y))"
   ]
  },
  {
   "cell_type": "markdown",
   "metadata": {},
   "source": [
    "Provide the coordinates (in Kilometers) and the time stamp (in hours), of the point where the flow has its maximum -axis velocity (the maximum signed value).\n",
    "\n",
    "Something to look out for:\n",
    "\n",
    "One answer is in hours, as specified above, the zero-indexed element 0 corresponds to 0 hrs. The time spacing is 3 hours. Multiply your zero-indexed time index by 3 to get the location in hours."
   ]
  },
  {
   "cell_type": "code",
   "execution_count": 5,
   "metadata": {},
   "outputs": [
    {
     "name": "stdout",
     "output_type": "stream",
     "text": [
      "Maximum velocity in horizontal flow in is X-axis = 1041 km, Y-axis=543 km in 84 hours \n"
     ]
    }
   ],
   "source": [
    "max_vel = np.unravel_index(np.nanargmax(U, axis=None), U.shape)\n",
    "max_vel_hr,max_vel_x, max_vel_y = np.array(max_vel)* grid_space\n",
    "# add grid space for the y-axis. \n",
    "max_vel_y = max_vel_y+grid_space\n",
    "print(\"Maximum velocity in horizontal flow in is X-axis = {} km, Y-axis={} km in {} hours \".format(max_vel_x,max_vel_y,max_vel_hr))\n"
   ]
  },
  {
   "cell_type": "code",
   "execution_count": 6,
   "metadata": {},
   "outputs": [
    {
     "name": "stdout",
     "output_type": "stream",
     "text": [
      "Maximum velocity in vertical flow is X-axis = 1014 km, Y-axis=540 km in 84 hours \n"
     ]
    }
   ],
   "source": [
    "max_vel = np.unravel_index(np.nanargmax(V, axis=None), V.shape)\n",
    "max_vel_v_hr,max_vel_v_x, max_vel_v_y = np.array(max_vel)* grid_space\n",
    "# add grid space for the y-axis. \n",
    "max_vel_v_y = max_vel_v_y+grid_space\n",
    "print(\"Maximum velocity in vertical flow is X-axis = {} km, Y-axis={} km in {} hours \".format(max_vel_v_x,max_vel_v_y,max_vel_v_hr))"
   ]
  },
  {
   "cell_type": "markdown",
   "metadata": {},
   "source": [
    "Take the average of the velocity vector over all time and positions, so that you get an overall average velocity for the entire data set.\n",
    "\n",
    "Note you should average over land positions for this problem, do not attempt to remove them from the average. (You may want to consider in your own time how this might bias the result.)\n",
    "\n",
    "Please enter the x (horizontal, u files) component of this velocity, in kilometers/hour. Please enter your answer to three significant figures (graded to 1% tolerance)."
   ]
  },
  {
   "cell_type": "code",
   "execution_count": 7,
   "metadata": {},
   "outputs": [
    {
     "name": "stdout",
     "output_type": "stream",
     "text": [
      "Average velocity in X-axis is -0.09384849668085234 KM/hr\n"
     ]
    }
   ],
   "source": [
    "mu_u = np.mean(U)\n",
    "print(\"Average velocity in X-axis is {} KM/hr\".format(mu_u))"
   ]
  },
  {
   "cell_type": "markdown",
   "metadata": {},
   "source": [
    "Please enter the y (vertical, v files) component of this velocity, in kilometers/hour. Please enter your answer to three significant figures (graded to 1% tolerance)."
   ]
  },
  {
   "cell_type": "code",
   "execution_count": 8,
   "metadata": {},
   "outputs": [
    {
     "name": "stdout",
     "output_type": "stream",
     "text": [
      "Average velocity in y-axis is -0.03555443189583662 KM/hr\n"
     ]
    }
   ],
   "source": [
    "mu_v = np.mean(V)\n",
    "print(\"Average velocity in y-axis is {} KM/hr\".format(mu_v))"
   ]
  },
  {
   "cell_type": "markdown",
   "metadata": {},
   "source": [
    "**Identifying long-range correlations.**\n",
    "\n",
    "In this problem, we will try to identify areas in the Philippine Archipelago with long-range correlations. Your task is to identify two places on the map that are not immediately next to each other but still have some high correlation in their flows. Your response should be the map of the Archipelago with the two areas marked (e.g., circled). You claim that those two areas have correlated flows. Explain how did you found those two areas have correlated flows. Below you will find some hints.\n",
    "\n",
    "A point is a particular location in the provided data set. Moreover, we have 100  measurements (at 100 different times) of the flow speeds in the x-axis and y-axis for each point. To compute the correlation between two points: select two points and compute the correlation coefficient along the x-direction, or the y-direction, or both. That is a correlation between two vectors of dimension 100."
   ]
  },
  {
   "cell_type": "markdown",
   "metadata": {},
   "source": [
    "The provided data set is quite large, with a map of 555 X 504 points. Thus, computing the correlation between every possible pair of points might be computationally expensive. You will need to compute (555*504)**2 = 78243278400 correlations! That is very large. Instead, you can randomly sample pairs of points and compute their correlations.\n",
    "\n",
    "Since this is a relatively small area, there might be many correlations between the points, so set the threshold to define “high correlations\" sufficiently large. If it is too small, you will find that most of the points are correlated. If it is too high, no pairs of points will be correlated.\n",
    "\n",
    "\n",
    "An area might be a single point correlated with other points. However, maybe there are clusters of points that are correlated with other clusters of points.\n",
    "\n",
    "Remember that correlation can be positive or negative. You are free to select whether you want to find positively correlated areas or negatively correlated areas.\n",
    "\n",
    "You are suggested to find a correlation for each direction separately. You are free to select how to combine these two values. Maybe set the correlation between the two points as the maximum directional correlation. Average between the two directional correlations also work. Of course, the minimum as well."
   ]
  },
  {
   "cell_type": "code",
   "execution_count": 59,
   "metadata": {},
   "outputs": [
    {
     "name": "stdout",
     "output_type": "stream",
     "text": [
      "random pairs =  10000\n"
     ]
    }
   ],
   "source": [
    "def distance(point1, point2): # point1 = [y1,x1], point2 = [y2,x2]\n",
    "    y1, x1 = point1[0], point1[1]\n",
    "    y2, x2 = point2[0], point2[1]\n",
    "    return np.sqrt((x2-x1)**2 + (y2-y1)**2)\n",
    "\n",
    "N_Pairs = 10**4\n",
    "# set the horizontal variance to null if the value is 0\n",
    "u_var = np.var(U, axis=0,ddof=0).astype(float)\n",
    "new_horz = U.copy()\n",
    "for i in range(U.shape[0]):\n",
    "    new_horz[i][u_var==0] = np.nan\n",
    "\n",
    "# Create Random pairs\n",
    "pairs = np.array([  np.random.randint(0, U.shape[1], size=[2, N_Pairs]), \n",
    "                    np.random.randint(0, V.shape[2], size=[2, N_Pairs]) \n",
    "                 ]).transpose([2, 1, 0])\n",
    "print(\"random pairs = \", len(pairs))\n",
    "\n",
    "# Get the correlations between the pairs\n",
    "correlations = {}\n",
    "for i in range(len(pairs)):\n",
    "    x1,y1 = list(pairs[i][0])\n",
    "    x2,y2 = list(pairs[i][1])\n",
    "    _coeff =  np.corrcoef(new_horz[:,x1,y1], new_horz[:, x2,y2])\n",
    "    correlations[((x1,y1),(x2,y2))] = _coeff\n",
    "clean_corr = {}\n",
    "for k in correlations:\n",
    "    if not np.isnan(correlations[k][0,1]) and correlations[k][0,1]!=1:\n",
    "        clean_corr[k] = correlations[k]\n",
    "\n",
    "sort_corr = sorted(clean_corr.items(), key=lambda x: x[1][0,1], reverse=True) # sort in descending\n",
    "# sort_corr"
   ]
  },
  {
   "cell_type": "code",
   "execution_count": 61,
   "metadata": {},
   "outputs": [],
   "source": [
    "threshold_pos = 0.96\n",
    "threshold_neg = -0.96\n",
    "\n",
    "lr_pos = []\n",
    "lr_neg = []\n",
    "for cor in sort_corr:\n",
    "    if distance(cor[0][0],cor[0][1]) > 50:\n",
    "        if cor[1][0,1] > threshold_pos:\n",
    "            lr_pos.append([cor[0], cor[1][0,1]])\n",
    "        elif cor[1][0,1] < threshold_neg:\n",
    "            lr_neg.append([cor[0], cor[1][0,1]])"
   ]
  },
  {
   "cell_type": "code",
   "execution_count": 62,
   "metadata": {},
   "outputs": [
    {
     "name": "stderr",
     "output_type": "stream",
     "text": [
      "C:\\Users\\z003twmx\\AppData\\Local\\Temp\\ipykernel_17492\\3186051643.py:7: UserWarning: color is redundantly defined by the 'color' keyword argument and the fmt string \"ro-\" (-> color='r'). The keyword argument will take precedence.\n",
      "  ax1.plot([lr_pos[i][0][0][1], lr_pos[i][0][1][1]], [lr_pos[i][0][0][0], lr_pos[i][0][1][0]], 'ro-', color=colors_pos[i])\n",
      "C:\\Users\\z003twmx\\AppData\\Local\\Temp\\ipykernel_17492\\3186051643.py:15: UserWarning: color is redundantly defined by the 'color' keyword argument and the fmt string \"ro-\" (-> color='r'). The keyword argument will take precedence.\n",
      "  ax2.plot([lr_neg[i][0][0][1], lr_neg[i][0][1][1]], [lr_neg[i][0][0][0], lr_neg[i][0][1][0]], 'ro-', color=colors_neg[i])\n"
     ]
    },
    {
     "data": {
      "image/png": "[encoded data removed]",
      "text/plain": [
       "<Figure size 640x480 with 2 Axes>"
      ]
     },
     "metadata": {},
     "output_type": "display_data"
    }
   ],
   "source": [
    "fig, (ax1,ax2) = plt.subplots(1,2)\n",
    "# Positive horizontal correlations\n",
    "#ax1 = sns.heatmap(mask_data, cbar=False)\n",
    "ax1.imshow(mask_data, cmap='binary_r', interpolation='nearest')\n",
    "colors_pos = [ cm.Reds(x) for x in np.linspace(0.1, 1, len(lr_pos)) ]\n",
    "for i in range(0, len(lr_pos)):\n",
    "    ax1.plot([lr_pos[i][0][0][1], lr_pos[i][0][1][1]], [lr_pos[i][0][0][0], lr_pos[i][0][1][0]], 'ro-', color=colors_pos[i])\n",
    "\n",
    "ax1.set_title(f\"Long range positive (r > {threshold_pos}) horizontal correlations)\")\n",
    "ax1.grid(False)\n",
    "# Negative horizontal correlations\n",
    "ax2.imshow(mask_data, cmap='binary_r', interpolation='nearest')\n",
    "colors_neg = [ cm.Blues(x) for x in np.linspace(0.1, 1, len(lr_neg)) ]\n",
    "for i in range(0, len(lr_neg)):\n",
    "    ax2.plot([lr_neg[i][0][0][1], lr_neg[i][0][1][1]], [lr_neg[i][0][0][0], lr_neg[i][0][1][0]], 'ro-', color=colors_neg[i])\n",
    "\n",
    "ax2.set_title(f\"Long range negative (r < {threshold_neg}) horizontal correlations)\")\n",
    "ax2.grid(False)\n",
    "plt.show()\n"
   ]
  },
  {
   "cell_type": "code",
   "execution_count": null,
   "metadata": {},
   "outputs": [],
   "source": [
    "# Helper function to round location to integer point and snap it to the grid if it goes out of bounds\n",
    "def clip(location):\n",
    "    _, y_lim, x_lim = U.shape\n",
    "    _loc=location\n",
    "    if location[0] < 0: # negative case\n",
    "        _loc[0] = 0 \n",
    "    elif location[0] > y_lim-1: # positive case\n",
    "        _loc[0] = y_lim-1\n",
    "\n",
    "    if location[1] < 0: # negative case\n",
    "        _loc[1] = 0 \n",
    "    elif location[1] > x_lim-1: # positive case\n",
    "        _loc[1] = x_lim-1\n",
    "\n",
    "    return _loc\n",
    "\n",
    "def euclidean_distance(point1,point2):\n",
    "    y1,x1 = point1\n",
    "    y2,x2=point2\n",
    "    return np.sqrt((x2-x1)**2 +(y2-y2)**2)\n",
    "\n",
    "def velocity(location, time):\n",
    "    if location # out of bounds:\n",
    "        location = #argmin of euclidean distance serrogate loc\n",
    "    v = # function of loc and t\n",
    "    return v"
   ]
  },
  {
   "cell_type": "code",
   "execution_count": null,
   "metadata": {},
   "outputs": [],
   "source": [
    "# threashold for high correlations\n",
    "cor_thresh = 1000\n",
    "\n",
    "random_mean = [300, 250]\n",
    "random_var = 100\n",
    "random_cov = [[100, 0], [0, 100]]  # diagonal covariance\n",
    "sample_size = 50000\n",
    "# random samples\n",
    "rand_y,rand_x = np.random.default_rng().multivariate_normal(random_mean, random_cov, sample_size).T  # Draw random samples from a multivariate normal distribution.\n",
    "\n",
    "# start simulation\n",
    "total_time = 100\n",
    "grid_size= 3\n",
    "Time = total_time // 3  # 3 dimension space\n",
    "measurement_times = 100\n",
    "epsilon = 3\n",
    "# get the land and water points from the random sample size\n",
    "rand_points =[]\n",
    "land_points = []\n",
    "for i in range(sample_size):\n",
    "    _y = rand_y[i]\n",
    "    _x = rand_x[i]\n",
    "    if mask_data[int(np.round(_y)),int(np.round(_x))]:\n",
    "        rand_points.append(np.array([float(_y),float(_x)]))\n",
    "    else:\n",
    "        land_points.append(np.array([float(_y),float(_x)]))\n",
    "\n",
    "\n",
    "speed_flow = np.sqrt(np.sum([U**2,V**2], axis=0))\n",
    "print(speed_flow.shape)\n",
    "print(np.array(rand_points).shape)\n",
    "print(np.array(land_points).shape)\n"
   ]
  },
  {
   "cell_type": "code",
   "execution_count": null,
   "metadata": {},
   "outputs": [],
   "source": [
    "# Color Map\n",
    "colors = [ cm.viridis(x) for x in np.linspace(0, 1, len(rand_points)) ]\n",
    "#fig, ax = plt.subplots()\n",
    "fig = plt.figure()\n",
    "ax = fig.add_subplot(111)\n",
    "\n",
    "ax.imshow(mask_data.T, origin='lower', cmap='binary_r', interpolation='nearest')\n",
    "\n",
    "for t in range(measurement_times):\n",
    "    sample_speed_flow = []\n",
    "    for i in range(len(rand_points)):\n",
    "        loc = tuple(map(int,np.round(rand_points[i])))\n",
    "        sample_speed_flow.append(speed_flow[t][loc])\n",
    "        # epsilon/grid_size is 1 in this case\n",
    "        _x = U[t][loc]\n",
    "        _y = V[t][loc]\n",
    "        rand_points[i] = rand_points[i] + np.array([_x,_y])\n",
    "        rand_points[i] = clip(rand_points[i])\n",
    "\n",
    "    # Plotting simulation\n",
    "    _alpha = (t**2/measurement_times**2)+0.1\n",
    "    if _alpha>1:\n",
    "        _alpha =1\n",
    "    elif _alpha<0:\n",
    "        _alpha =0.1\n",
    "    dot_size = np.multiply(50,sample_speed_flow)\n",
    "    plt.scatter(*zip(*rand_points), s=dot_size, c=colors, alpha=_alpha)\n",
    "plt.show()"
   ]
  },
  {
   "cell_type": "code",
   "execution_count": null,
   "metadata": {},
   "outputs": [],
   "source": [
    "U.shape"
   ]
  },
  {
   "cell_type": "code",
   "execution_count": null,
   "metadata": {},
   "outputs": [],
   "source": [
    "num_pairs = 50000\n",
    "dist_threshold = 1500\n",
    "pairs = np.array([  np.random.randint(0, U.shape[1], size=[2, num_pairs]), \n",
    "                    np.random.randint(0, V.shape[2], size=[2, num_pairs]) \n",
    "                 ]).transpose([2, 1, 0])\n",
    "idx_dist_threshold = dist_threshold/3.0\n",
    "# pairs_dists = np.sqrt(np.square(pairs[:,0,:] - pairs[:, 1, :]).sum(axis=1))\n",
    "print(len(pairs))\n",
    "pairs_dists = [euclidean_distance(pairs[i,0,:],pairs[i,1,:]) for i in range(len(pairs))]\n",
    "random_pairs = []\n",
    "for i in range(len(pairs)):\n",
    "   _dist = euclidean_distance(pairs[i,0,:],pairs[i,1,:])\n",
    "   if _dist>idx_dist_threshold:\n",
    "      random_pairs.append(pairs[i,:,:])\n",
    "# random_pairs = pairs[pairs_dists > idx_dist_threshold, :, :]\n",
    "\n",
    "np.array(random_pairs).shape"
   ]
  },
  {
   "cell_type": "code",
   "execution_count": null,
   "metadata": {},
   "outputs": [],
   "source": [
    "\n"
   ]
  },
  {
   "cell_type": "code",
   "execution_count": null,
   "metadata": {},
   "outputs": [],
   "source": [
    "x = [[1,2,3],[2,3,4],[3,4,5]]\n",
    "y = [[4,5,6],[5,6,7],[6,7,8]]\n",
    "np.stack([x,y]).shape"
   ]
  },
  {
   "cell_type": "code",
   "execution_count": null,
   "metadata": {},
   "outputs": [],
   "source": []
  }
 ],
 "metadata": {
  "kernelspec": {
   "display_name": "Python 3.8.16 ('mitx')",
   "language": "python",
   "name": "python3"
  },
  "language_info": {
   "codemirror_mode": {
    "name": "ipython",
    "version": 3
   },
   "file_extension": ".py",
   "mimetype": "text/x-python",
   "name": "python",
   "nbconvert_exporter": "python",
   "pygments_lexer": "ipython3",
   "version": "3.8.16"
  },
  "orig_nbformat": 4,
  "vscode": {
   "interpreter": {
    "hash": "be4cf647e822bd8704ca03d191902b0b63cac5adcb88b77eb022afc2b53edeb8"
   }
  }
 },
 "nbformat": 4,
 "nbformat_minor": 2
}
